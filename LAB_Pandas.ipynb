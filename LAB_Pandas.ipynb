{
 "cells": [
  {
   "cell_type": "code",
   "execution_count": 190,
   "id": "33ae3ddc",
   "metadata": {},
   "outputs": [
    {
     "data": {
      "text/html": [
       "<style>.container { width:97% !important; }</style>"
      ],
      "text/plain": [
       "<IPython.core.display.HTML object>"
      ]
     },
     "metadata": {},
     "output_type": "display_data"
    }
   ],
   "source": [
    "from IPython.core.display import display, HTML\n",
    "display(HTML(\"<style>.container { width:97% !important; }</style>\"))"
   ]
  },
  {
   "cell_type": "markdown",
   "id": "0f84db77",
   "metadata": {},
   "source": [
    "# # Session Overview\n",
    "#### Pandas Package\n",
    " - 2 Data Types in Pandas: Series & DataFrame\n",
    " - Focus: DataFrame\n",
    " \n",
    "#### Objective\n",
    " - Get basic understanding on DataFrame\n",
    " - Understand 2 main data types(Series & DataFrame) used in Data Science\n",
    " - Get how to study pandas package later on according to individual need."
   ]
  },
  {
   "cell_type": "markdown",
   "id": "21d81dd1",
   "metadata": {},
   "source": [
    "<hr>"
   ]
  },
  {
   "cell_type": "markdown",
   "id": "5be7a3ba",
   "metadata": {},
   "source": [
    "# [Contents]\n",
    " - Quick review\n",
    " - package alias\n",
    " - pandas.Series\n",
    " - pandas.DataFrame"
   ]
  },
  {
   "cell_type": "markdown",
   "id": "a333d2ce",
   "metadata": {},
   "source": [
    "# # Using pandas package"
   ]
  },
  {
   "cell_type": "code",
   "execution_count": 191,
   "id": "5a580e41",
   "metadata": {},
   "outputs": [],
   "source": [
    "# pip install pandas "
   ]
  },
  {
   "cell_type": "code",
   "execution_count": 192,
   "id": "77cb1dac",
   "metadata": {},
   "outputs": [],
   "source": [
    "import pandas   # I loaded the pandas package on the memory of the computer."
   ]
  },
  {
   "cell_type": "code",
   "execution_count": 193,
   "id": "d40e4040",
   "metadata": {},
   "outputs": [
    {
     "data": {
      "text/html": [
       "<div>\n",
       "<style scoped>\n",
       "    .dataframe tbody tr th:only-of-type {\n",
       "        vertical-align: middle;\n",
       "    }\n",
       "\n",
       "    .dataframe tbody tr th {\n",
       "        vertical-align: top;\n",
       "    }\n",
       "\n",
       "    .dataframe thead th {\n",
       "        text-align: right;\n",
       "    }\n",
       "</style>\n",
       "<table border=\"1\" class=\"dataframe\">\n",
       "  <thead>\n",
       "    <tr style=\"text-align: right;\">\n",
       "      <th></th>\n",
       "      <th>column</th>\n",
       "      <th>column2</th>\n",
       "    </tr>\n",
       "  </thead>\n",
       "  <tbody>\n",
       "    <tr>\n",
       "      <th>0</th>\n",
       "      <td>1</td>\n",
       "      <td>4</td>\n",
       "    </tr>\n",
       "    <tr>\n",
       "      <th>1</th>\n",
       "      <td>2</td>\n",
       "      <td>5</td>\n",
       "    </tr>\n",
       "    <tr>\n",
       "      <th>2</th>\n",
       "      <td>3</td>\n",
       "      <td>7</td>\n",
       "    </tr>\n",
       "  </tbody>\n",
       "</table>\n",
       "</div>"
      ],
      "text/plain": [
       "   column  column2\n",
       "0       1        4\n",
       "1       2        5\n",
       "2       3        7"
      ]
     },
     "execution_count": 193,
     "metadata": {},
     "output_type": "execute_result"
    }
   ],
   "source": [
    "pandas.DataFrame({'column': [1,2,3], 'column2':[4,5,7]})   # we use DataFrame method of pandas package"
   ]
  },
  {
   "cell_type": "code",
   "execution_count": 194,
   "id": "b3d51fb5",
   "metadata": {},
   "outputs": [],
   "source": [
    "import pandas as pd   # alias"
   ]
  },
  {
   "cell_type": "code",
   "execution_count": 195,
   "id": "bc7832f9",
   "metadata": {},
   "outputs": [
    {
     "data": {
      "text/html": [
       "<div>\n",
       "<style scoped>\n",
       "    .dataframe tbody tr th:only-of-type {\n",
       "        vertical-align: middle;\n",
       "    }\n",
       "\n",
       "    .dataframe tbody tr th {\n",
       "        vertical-align: top;\n",
       "    }\n",
       "\n",
       "    .dataframe thead th {\n",
       "        text-align: right;\n",
       "    }\n",
       "</style>\n",
       "<table border=\"1\" class=\"dataframe\">\n",
       "  <thead>\n",
       "    <tr style=\"text-align: right;\">\n",
       "      <th></th>\n",
       "      <th>column</th>\n",
       "      <th>column2</th>\n",
       "    </tr>\n",
       "  </thead>\n",
       "  <tbody>\n",
       "    <tr>\n",
       "      <th>0</th>\n",
       "      <td>1</td>\n",
       "      <td>4</td>\n",
       "    </tr>\n",
       "    <tr>\n",
       "      <th>1</th>\n",
       "      <td>2</td>\n",
       "      <td>5</td>\n",
       "    </tr>\n",
       "    <tr>\n",
       "      <th>2</th>\n",
       "      <td>3</td>\n",
       "      <td>7</td>\n",
       "    </tr>\n",
       "  </tbody>\n",
       "</table>\n",
       "</div>"
      ],
      "text/plain": [
       "   column  column2\n",
       "0       1        4\n",
       "1       2        5\n",
       "2       3        7"
      ]
     },
     "execution_count": 195,
     "metadata": {},
     "output_type": "execute_result"
    }
   ],
   "source": [
    "pd.DataFrame({'column': [1,2,3], 'column2':[4,5,7]})   # we use DataFrame method of pandas package"
   ]
  },
  {
   "cell_type": "code",
   "execution_count": 196,
   "id": "246cbfa3",
   "metadata": {},
   "outputs": [],
   "source": [
    "# Other examples\n",
    "import math\n",
    "import random\n",
    "import numpy as np  \n",
    "import pandas as pd\n",
    "import matplotlib.pyplot as plt"
   ]
  },
  {
   "cell_type": "markdown",
   "id": "0c42f16f",
   "metadata": {},
   "source": [
    "# # Series\n",
    " - def.) a kind of **one-dimensional array** of any data type that we specified in the pandas module\n",
    " - def.) one-dimensional labeled array capable of holding any data type\n",
    " \n",
    " \n",
    " - pd.Series( )\n",
    " - index & values\n",
    "\n",
    "\n",
    " - Reference\n",
    "   - https://www.tutorialgateway.org/python-series/\n",
    "   - https://pandas.pydata.org/docs/user_guide/dsintro.html\n"
   ]
  },
  {
   "cell_type": "code",
   "execution_count": 197,
   "id": "251303fd",
   "metadata": {},
   "outputs": [],
   "source": [
    "import pandas as pd"
   ]
  },
  {
   "cell_type": "code",
   "execution_count": 198,
   "id": "3b342020",
   "metadata": {},
   "outputs": [],
   "source": [
    "arr = pd.Series([15, 35, 55, 75])"
   ]
  },
  {
   "cell_type": "code",
   "execution_count": 199,
   "id": "739472a7",
   "metadata": {},
   "outputs": [
    {
     "data": {
      "text/plain": [
       "0    15\n",
       "1    35\n",
       "2    55\n",
       "3    75\n",
       "dtype: int64"
      ]
     },
     "execution_count": 199,
     "metadata": {},
     "output_type": "execute_result"
    }
   ],
   "source": [
    "arr   # [15, 35, 55, 75]   (15, 35, 55, 75)"
   ]
  },
  {
   "cell_type": "code",
   "execution_count": 200,
   "id": "60b338af",
   "metadata": {},
   "outputs": [
    {
     "data": {
      "text/plain": [
       "RangeIndex(start=0, stop=4, step=1)"
      ]
     },
     "execution_count": 200,
     "metadata": {},
     "output_type": "execute_result"
    }
   ],
   "source": [
    "arr.index   # 0, 1, 2, 3"
   ]
  },
  {
   "cell_type": "code",
   "execution_count": 201,
   "id": "3e4b96e9",
   "metadata": {},
   "outputs": [
    {
     "data": {
      "text/plain": [
       "array([15, 35, 55, 75])"
      ]
     },
     "execution_count": 201,
     "metadata": {},
     "output_type": "execute_result"
    }
   ],
   "source": [
    "arr.values"
   ]
  },
  {
   "cell_type": "code",
   "execution_count": 202,
   "id": "be1dadf5",
   "metadata": {},
   "outputs": [],
   "source": [
    "name_series = pd.Series(['KDH', 'Kim', 'Hong', 'He'])"
   ]
  },
  {
   "cell_type": "code",
   "execution_count": 203,
   "id": "85b4be94",
   "metadata": {},
   "outputs": [
    {
     "data": {
      "text/plain": [
       "0     KDH\n",
       "1     Kim\n",
       "2    Hong\n",
       "3      He\n",
       "dtype: object"
      ]
     },
     "execution_count": 203,
     "metadata": {},
     "output_type": "execute_result"
    }
   ],
   "source": [
    "name_series"
   ]
  },
  {
   "cell_type": "markdown",
   "id": "a2c424fc",
   "metadata": {},
   "source": [
    "#### indexing"
   ]
  },
  {
   "cell_type": "code",
   "execution_count": 204,
   "id": "37c0e932",
   "metadata": {},
   "outputs": [
    {
     "data": {
      "text/plain": [
       "'He'"
      ]
     },
     "execution_count": 204,
     "metadata": {},
     "output_type": "execute_result"
    }
   ],
   "source": [
    "name_series[3]    # li = [1,2,3]  >> li[0] "
   ]
  },
  {
   "cell_type": "code",
   "execution_count": 205,
   "id": "b10381ad",
   "metadata": {},
   "outputs": [
    {
     "data": {
      "text/plain": [
       "'KDH'"
      ]
     },
     "execution_count": 205,
     "metadata": {},
     "output_type": "execute_result"
    }
   ],
   "source": [
    "name_series[0]"
   ]
  },
  {
   "cell_type": "code",
   "execution_count": 206,
   "id": "5bc31e9b",
   "metadata": {},
   "outputs": [
    {
     "data": {
      "text/plain": [
       "KDH     95\n",
       "Kim    100\n",
       "He      99\n",
       "dtype: int64"
      ]
     },
     "execution_count": 206,
     "metadata": {},
     "output_type": "execute_result"
    }
   ],
   "source": [
    "percentile_score = pd.Series([95, 100, 99], index=['KDH', 'Kim', 'He'])\n",
    "percentile_score   # [95, 100, 99]"
   ]
  },
  {
   "cell_type": "code",
   "execution_count": 207,
   "id": "9d6e0b0d",
   "metadata": {},
   "outputs": [
    {
     "data": {
      "text/plain": [
       "99"
      ]
     },
     "execution_count": 207,
     "metadata": {},
     "output_type": "execute_result"
    }
   ],
   "source": [
    "percentile_score['He']"
   ]
  },
  {
   "cell_type": "markdown",
   "id": "d77177c3",
   "metadata": {},
   "source": [
    "#### another example of series"
   ]
  },
  {
   "cell_type": "code",
   "execution_count": 208,
   "id": "e7fa77ec",
   "metadata": {},
   "outputs": [
    {
     "data": {
      "text/plain": [
       "0    A0231887U\n",
       "1    A0123456U\n",
       "2    A3141592U\n",
       "dtype: object"
      ]
     },
     "execution_count": 208,
     "metadata": {},
     "output_type": "execute_result"
    }
   ],
   "source": [
    "student_ids = pd.Series(['A0231887U', 'A0123456U', 'A3141592U'])\n",
    "student_ids"
   ]
  },
  {
   "cell_type": "code",
   "execution_count": 209,
   "id": "941e1d09",
   "metadata": {},
   "outputs": [
    {
     "data": {
      "text/plain": [
       "0    A0231887U\n",
       "1    A0123456U\n",
       "2    A3141592U\n",
       "Name: id, dtype: object"
      ]
     },
     "execution_count": 209,
     "metadata": {},
     "output_type": "execute_result"
    }
   ],
   "source": [
    "student_ids = pd.Series(['A0231887U', 'A0123456U', 'A3141592U'], name='id')\n",
    "student_ids"
   ]
  },
  {
   "cell_type": "markdown",
   "id": "6dc4810a",
   "metadata": {},
   "source": [
    "\n",
    "# # DataFrame\n",
    " - def.) a **2-dimensional labeled data structure** with columns of potentially different types  \n",
    " - *\\\"You can think of it like a **spreadsheet or SQL table**, or a dict of Series objects. It is generally the most commonly used pandas object. Like Series, DataFrame accepts many different kinds of input*\\\"   \n",
    "\n",
    "\n",
    " - pd.DataFrame( )\n",
    " - row & column\n",
    " - index & column  \n",
    "\n",
    "\n",
    " - Reference\n",
    "   - https://pandas.pydata.org/docs/user_guide/dsintro.html\n"
   ]
  },
  {
   "cell_type": "code",
   "execution_count": 210,
   "id": "bbdddb94",
   "metadata": {},
   "outputs": [
    {
     "data": {
      "text/plain": [
       "0    A0231887U\n",
       "1    A0123456U\n",
       "2    A3141592U\n",
       "Name: id, dtype: object"
      ]
     },
     "metadata": {},
     "output_type": "display_data"
    },
    {
     "data": {
      "text/plain": [
       "0    15.0\n",
       "1    12.0\n",
       "2    11.2\n",
       "Name: scr_memo, dtype: float64"
      ]
     },
     "metadata": {},
     "output_type": "display_data"
    },
    {
     "data": {
      "text/plain": [
       "0    30\n",
       "1    22\n",
       "2    27\n",
       "Name: scr_proj, dtype: int64"
      ]
     },
     "metadata": {},
     "output_type": "display_data"
    }
   ],
   "source": [
    "student_ids = pd.Series(['A0231887U', 'A0123456U', 'A3141592U'], name='id')\n",
    "memo_scores = pd.Series([15, 12, 11.2], name='scr_memo')\n",
    "project_scores = pd.Series([30, 22, 27], name='scr_proj')\n",
    "\n",
    "display(student_ids, memo_scores, project_scores)"
   ]
  },
  {
   "cell_type": "markdown",
   "id": "7451660c",
   "metadata": {},
   "source": [
    "#### DataFrame"
   ]
  },
  {
   "cell_type": "code",
   "execution_count": 211,
   "id": "ede4b922",
   "metadata": {},
   "outputs": [
    {
     "data": {
      "text/html": [
       "<div>\n",
       "<style scoped>\n",
       "    .dataframe tbody tr th:only-of-type {\n",
       "        vertical-align: middle;\n",
       "    }\n",
       "\n",
       "    .dataframe tbody tr th {\n",
       "        vertical-align: top;\n",
       "    }\n",
       "\n",
       "    .dataframe thead th {\n",
       "        text-align: right;\n",
       "    }\n",
       "</style>\n",
       "<table border=\"1\" class=\"dataframe\">\n",
       "  <thead>\n",
       "    <tr style=\"text-align: right;\">\n",
       "      <th></th>\n",
       "      <th>id</th>\n",
       "      <th>scr_memo</th>\n",
       "      <th>scr_proj</th>\n",
       "    </tr>\n",
       "  </thead>\n",
       "  <tbody>\n",
       "    <tr>\n",
       "      <th>0</th>\n",
       "      <td>A0231887U</td>\n",
       "      <td>15.0</td>\n",
       "      <td>30</td>\n",
       "    </tr>\n",
       "    <tr>\n",
       "      <th>1</th>\n",
       "      <td>A0123456U</td>\n",
       "      <td>12.0</td>\n",
       "      <td>22</td>\n",
       "    </tr>\n",
       "    <tr>\n",
       "      <th>2</th>\n",
       "      <td>A3141592U</td>\n",
       "      <td>11.2</td>\n",
       "      <td>27</td>\n",
       "    </tr>\n",
       "  </tbody>\n",
       "</table>\n",
       "</div>"
      ],
      "text/plain": [
       "          id  scr_memo  scr_proj\n",
       "0  A0231887U      15.0        30\n",
       "1  A0123456U      12.0        22\n",
       "2  A3141592U      11.2        27"
      ]
     },
     "execution_count": 211,
     "metadata": {},
     "output_type": "execute_result"
    }
   ],
   "source": [
    "pd.DataFrame({'id':student_ids, 'scr_memo':memo_scores, 'scr_proj':project_scores})"
   ]
  },
  {
   "cell_type": "code",
   "execution_count": 212,
   "id": "9b4931db",
   "metadata": {},
   "outputs": [
    {
     "data": {
      "text/html": [
       "<div>\n",
       "<style scoped>\n",
       "    .dataframe tbody tr th:only-of-type {\n",
       "        vertical-align: middle;\n",
       "    }\n",
       "\n",
       "    .dataframe tbody tr th {\n",
       "        vertical-align: top;\n",
       "    }\n",
       "\n",
       "    .dataframe thead th {\n",
       "        text-align: right;\n",
       "    }\n",
       "</style>\n",
       "<table border=\"1\" class=\"dataframe\">\n",
       "  <thead>\n",
       "    <tr style=\"text-align: right;\">\n",
       "      <th></th>\n",
       "      <th>id</th>\n",
       "      <th>scr_memo</th>\n",
       "      <th>scr_proj</th>\n",
       "    </tr>\n",
       "  </thead>\n",
       "  <tbody>\n",
       "    <tr>\n",
       "      <th>0</th>\n",
       "      <td>A0231887U</td>\n",
       "      <td>15.0</td>\n",
       "      <td>30</td>\n",
       "    </tr>\n",
       "    <tr>\n",
       "      <th>1</th>\n",
       "      <td>A0123456U</td>\n",
       "      <td>12.0</td>\n",
       "      <td>22</td>\n",
       "    </tr>\n",
       "    <tr>\n",
       "      <th>2</th>\n",
       "      <td>A3141592U</td>\n",
       "      <td>11.2</td>\n",
       "      <td>27</td>\n",
       "    </tr>\n",
       "  </tbody>\n",
       "</table>\n",
       "</div>"
      ],
      "text/plain": [
       "          id  scr_memo  scr_proj\n",
       "0  A0231887U      15.0        30\n",
       "1  A0123456U      12.0        22\n",
       "2  A3141592U      11.2        27"
      ]
     },
     "execution_count": 212,
     "metadata": {},
     "output_type": "execute_result"
    }
   ],
   "source": [
    "df_scores = pd.DataFrame({'id':student_ids, 'scr_memo':memo_scores, 'scr_proj':project_scores})\n",
    "df_scores"
   ]
  },
  {
   "cell_type": "code",
   "execution_count": 213,
   "id": "32a69ad6",
   "metadata": {},
   "outputs": [
    {
     "data": {
      "text/html": [
       "<div>\n",
       "<style scoped>\n",
       "    .dataframe tbody tr th:only-of-type {\n",
       "        vertical-align: middle;\n",
       "    }\n",
       "\n",
       "    .dataframe tbody tr th {\n",
       "        vertical-align: top;\n",
       "    }\n",
       "\n",
       "    .dataframe thead th {\n",
       "        text-align: right;\n",
       "    }\n",
       "</style>\n",
       "<table border=\"1\" class=\"dataframe\">\n",
       "  <thead>\n",
       "    <tr style=\"text-align: right;\">\n",
       "      <th></th>\n",
       "      <th>id</th>\n",
       "      <th>scr_memo</th>\n",
       "      <th>scr_proj</th>\n",
       "    </tr>\n",
       "  </thead>\n",
       "  <tbody>\n",
       "    <tr>\n",
       "      <th>0</th>\n",
       "      <td>A0231887U</td>\n",
       "      <td>15.0</td>\n",
       "      <td>30</td>\n",
       "    </tr>\n",
       "    <tr>\n",
       "      <th>1</th>\n",
       "      <td>A0123456U</td>\n",
       "      <td>12.0</td>\n",
       "      <td>22</td>\n",
       "    </tr>\n",
       "    <tr>\n",
       "      <th>2</th>\n",
       "      <td>A3141592U</td>\n",
       "      <td>11.2</td>\n",
       "      <td>27</td>\n",
       "    </tr>\n",
       "  </tbody>\n",
       "</table>\n",
       "</div>"
      ],
      "text/plain": [
       "          id  scr_memo  scr_proj\n",
       "0  A0231887U      15.0        30\n",
       "1  A0123456U      12.0        22\n",
       "2  A3141592U      11.2        27"
      ]
     },
     "execution_count": 213,
     "metadata": {},
     "output_type": "execute_result"
    }
   ],
   "source": [
    "df = pd.DataFrame({'id':student_ids, 'scr_memo':memo_scores, 'scr_proj':project_scores})\n",
    "df"
   ]
  },
  {
   "cell_type": "markdown",
   "id": "99e49e6f",
   "metadata": {},
   "source": [
    "#### another dataframe"
   ]
  },
  {
   "cell_type": "code",
   "execution_count": 214,
   "id": "d980d1f9",
   "metadata": {},
   "outputs": [
    {
     "data": {
      "text/html": [
       "<div>\n",
       "<style scoped>\n",
       "    .dataframe tbody tr th:only-of-type {\n",
       "        vertical-align: middle;\n",
       "    }\n",
       "\n",
       "    .dataframe tbody tr th {\n",
       "        vertical-align: top;\n",
       "    }\n",
       "\n",
       "    .dataframe thead th {\n",
       "        text-align: right;\n",
       "    }\n",
       "</style>\n",
       "<table border=\"1\" class=\"dataframe\">\n",
       "  <thead>\n",
       "    <tr style=\"text-align: right;\">\n",
       "      <th></th>\n",
       "      <th>id</th>\n",
       "      <th>nm</th>\n",
       "      <th>scr_memo</th>\n",
       "      <th>scr_proj</th>\n",
       "      <th>scr_poll</th>\n",
       "    </tr>\n",
       "  </thead>\n",
       "  <tbody>\n",
       "    <tr>\n",
       "      <th>0</th>\n",
       "      <td>A0231887U</td>\n",
       "      <td>DH</td>\n",
       "      <td>15.0</td>\n",
       "      <td>30</td>\n",
       "      <td>15</td>\n",
       "    </tr>\n",
       "    <tr>\n",
       "      <th>1</th>\n",
       "      <td>A0231887U</td>\n",
       "      <td>PA</td>\n",
       "      <td>12.0</td>\n",
       "      <td>22</td>\n",
       "      <td>11</td>\n",
       "    </tr>\n",
       "    <tr>\n",
       "      <th>2</th>\n",
       "      <td>A0231887U</td>\n",
       "      <td>OB</td>\n",
       "      <td>11.2</td>\n",
       "      <td>27</td>\n",
       "      <td>14</td>\n",
       "    </tr>\n",
       "    <tr>\n",
       "      <th>3</th>\n",
       "      <td>A6535897U</td>\n",
       "      <td>BMH</td>\n",
       "      <td>13.0</td>\n",
       "      <td>19</td>\n",
       "      <td>15</td>\n",
       "    </tr>\n",
       "    <tr>\n",
       "      <th>4</th>\n",
       "      <td>A3238467U</td>\n",
       "      <td>NUS</td>\n",
       "      <td>14.0</td>\n",
       "      <td>25</td>\n",
       "      <td>9</td>\n",
       "    </tr>\n",
       "  </tbody>\n",
       "</table>\n",
       "</div>"
      ],
      "text/plain": [
       "          id   nm  scr_memo  scr_proj  scr_poll\n",
       "0  A0231887U   DH      15.0        30        15\n",
       "1  A0231887U   PA      12.0        22        11\n",
       "2  A0231887U   OB      11.2        27        14\n",
       "3  A6535897U  BMH      13.0        19        15\n",
       "4  A3238467U  NUS      14.0        25         9"
      ]
     },
     "execution_count": 214,
     "metadata": {},
     "output_type": "execute_result"
    }
   ],
   "source": [
    "# Define DataFrame to use\n",
    "student_ids = pd.Series(['A0231887U', 'A0231887U', 'A0231887U', 'A6535897U', 'A3238467U'], name='id')\n",
    "student_names = pd.Series(['DH', 'PA', 'OB', 'BMH', 'NUS'], name='nm')\n",
    "memo_scores = pd.Series([15, 12, 11.2, 13, 14], name='scr_memo')\n",
    "project_scores = pd.Series([30, 22, 27, 19, 25], name='scr_proj')\n",
    "poll_scores = pd.Series([15, 11, 14, 15, 9], name='scr_poll')\n",
    "\n",
    "df = pd.DataFrame({'id':student_ids, 'nm':student_names, 'scr_memo':memo_scores, 'scr_proj':project_scores, 'scr_poll':poll_scores})\n",
    "df"
   ]
  },
  {
   "cell_type": "markdown",
   "id": "9d1401b2",
   "metadata": {},
   "source": [
    "#### Basic checklist\n",
    " - read data (load data) >> colab\n",
    " - see some basic infos from the dataframe"
   ]
  },
  {
   "cell_type": "code",
   "execution_count": 215,
   "id": "591c2e9c",
   "metadata": {},
   "outputs": [
    {
     "data": {
      "text/plain": [
       "RangeIndex(start=0, stop=5, step=1)"
      ]
     },
     "execution_count": 215,
     "metadata": {},
     "output_type": "execute_result"
    }
   ],
   "source": [
    "df.index"
   ]
  },
  {
   "cell_type": "code",
   "execution_count": 216,
   "id": "30a92478",
   "metadata": {},
   "outputs": [
    {
     "data": {
      "text/plain": [
       "Index(['id', 'nm', 'scr_memo', 'scr_proj', 'scr_poll'], dtype='object')"
      ]
     },
     "execution_count": 216,
     "metadata": {},
     "output_type": "execute_result"
    }
   ],
   "source": [
    "df.columns"
   ]
  },
  {
   "cell_type": "code",
   "execution_count": 217,
   "id": "405ced9d",
   "metadata": {},
   "outputs": [
    {
     "data": {
      "text/plain": [
       "(5, 5)"
      ]
     },
     "execution_count": 217,
     "metadata": {},
     "output_type": "execute_result"
    }
   ],
   "source": [
    "df.shape   # (how many rows, how many columns)"
   ]
  },
  {
   "cell_type": "markdown",
   "id": "3ddf5cc4",
   "metadata": {},
   "source": [
    "#### useful functions"
   ]
  },
  {
   "cell_type": "code",
   "execution_count": 218,
   "id": "325df6c9",
   "metadata": {},
   "outputs": [
    {
     "data": {
      "text/html": [
       "<div>\n",
       "<style scoped>\n",
       "    .dataframe tbody tr th:only-of-type {\n",
       "        vertical-align: middle;\n",
       "    }\n",
       "\n",
       "    .dataframe tbody tr th {\n",
       "        vertical-align: top;\n",
       "    }\n",
       "\n",
       "    .dataframe thead th {\n",
       "        text-align: right;\n",
       "    }\n",
       "</style>\n",
       "<table border=\"1\" class=\"dataframe\">\n",
       "  <thead>\n",
       "    <tr style=\"text-align: right;\">\n",
       "      <th></th>\n",
       "      <th>id</th>\n",
       "      <th>nm</th>\n",
       "      <th>scr_memo</th>\n",
       "      <th>scr_proj</th>\n",
       "      <th>scr_poll</th>\n",
       "    </tr>\n",
       "  </thead>\n",
       "  <tbody>\n",
       "    <tr>\n",
       "      <th>0</th>\n",
       "      <td>A0231887U</td>\n",
       "      <td>DH</td>\n",
       "      <td>15.0</td>\n",
       "      <td>30</td>\n",
       "      <td>15</td>\n",
       "    </tr>\n",
       "    <tr>\n",
       "      <th>1</th>\n",
       "      <td>A0231887U</td>\n",
       "      <td>PA</td>\n",
       "      <td>12.0</td>\n",
       "      <td>22</td>\n",
       "      <td>11</td>\n",
       "    </tr>\n",
       "    <tr>\n",
       "      <th>2</th>\n",
       "      <td>A0231887U</td>\n",
       "      <td>OB</td>\n",
       "      <td>11.2</td>\n",
       "      <td>27</td>\n",
       "      <td>14</td>\n",
       "    </tr>\n",
       "    <tr>\n",
       "      <th>3</th>\n",
       "      <td>A6535897U</td>\n",
       "      <td>BMH</td>\n",
       "      <td>13.0</td>\n",
       "      <td>19</td>\n",
       "      <td>15</td>\n",
       "    </tr>\n",
       "    <tr>\n",
       "      <th>4</th>\n",
       "      <td>A3238467U</td>\n",
       "      <td>NUS</td>\n",
       "      <td>14.0</td>\n",
       "      <td>25</td>\n",
       "      <td>9</td>\n",
       "    </tr>\n",
       "  </tbody>\n",
       "</table>\n",
       "</div>"
      ],
      "text/plain": [
       "          id   nm  scr_memo  scr_proj  scr_poll\n",
       "0  A0231887U   DH      15.0        30        15\n",
       "1  A0231887U   PA      12.0        22        11\n",
       "2  A0231887U   OB      11.2        27        14\n",
       "3  A6535897U  BMH      13.0        19        15\n",
       "4  A3238467U  NUS      14.0        25         9"
      ]
     },
     "execution_count": 218,
     "metadata": {},
     "output_type": "execute_result"
    }
   ],
   "source": [
    "df.head()  # head() function shows 6 top rows"
   ]
  },
  {
   "cell_type": "code",
   "execution_count": 219,
   "id": "7a6fc67b",
   "metadata": {},
   "outputs": [
    {
     "data": {
      "text/html": [
       "<div>\n",
       "<style scoped>\n",
       "    .dataframe tbody tr th:only-of-type {\n",
       "        vertical-align: middle;\n",
       "    }\n",
       "\n",
       "    .dataframe tbody tr th {\n",
       "        vertical-align: top;\n",
       "    }\n",
       "\n",
       "    .dataframe thead th {\n",
       "        text-align: right;\n",
       "    }\n",
       "</style>\n",
       "<table border=\"1\" class=\"dataframe\">\n",
       "  <thead>\n",
       "    <tr style=\"text-align: right;\">\n",
       "      <th></th>\n",
       "      <th>id</th>\n",
       "      <th>nm</th>\n",
       "      <th>scr_memo</th>\n",
       "      <th>scr_proj</th>\n",
       "      <th>scr_poll</th>\n",
       "    </tr>\n",
       "  </thead>\n",
       "  <tbody>\n",
       "    <tr>\n",
       "      <th>0</th>\n",
       "      <td>A0231887U</td>\n",
       "      <td>DH</td>\n",
       "      <td>15.0</td>\n",
       "      <td>30</td>\n",
       "      <td>15</td>\n",
       "    </tr>\n",
       "    <tr>\n",
       "      <th>1</th>\n",
       "      <td>A0231887U</td>\n",
       "      <td>PA</td>\n",
       "      <td>12.0</td>\n",
       "      <td>22</td>\n",
       "      <td>11</td>\n",
       "    </tr>\n",
       "  </tbody>\n",
       "</table>\n",
       "</div>"
      ],
      "text/plain": [
       "          id  nm  scr_memo  scr_proj  scr_poll\n",
       "0  A0231887U  DH      15.0        30        15\n",
       "1  A0231887U  PA      12.0        22        11"
      ]
     },
     "execution_count": 219,
     "metadata": {},
     "output_type": "execute_result"
    }
   ],
   "source": [
    "df.head(n = 2)"
   ]
  },
  {
   "cell_type": "code",
   "execution_count": 220,
   "id": "2cc0aef7",
   "metadata": {},
   "outputs": [
    {
     "data": {
      "text/html": [
       "<div>\n",
       "<style scoped>\n",
       "    .dataframe tbody tr th:only-of-type {\n",
       "        vertical-align: middle;\n",
       "    }\n",
       "\n",
       "    .dataframe tbody tr th {\n",
       "        vertical-align: top;\n",
       "    }\n",
       "\n",
       "    .dataframe thead th {\n",
       "        text-align: right;\n",
       "    }\n",
       "</style>\n",
       "<table border=\"1\" class=\"dataframe\">\n",
       "  <thead>\n",
       "    <tr style=\"text-align: right;\">\n",
       "      <th></th>\n",
       "      <th>id</th>\n",
       "      <th>nm</th>\n",
       "      <th>scr_memo</th>\n",
       "      <th>scr_proj</th>\n",
       "      <th>scr_poll</th>\n",
       "    </tr>\n",
       "  </thead>\n",
       "  <tbody>\n",
       "    <tr>\n",
       "      <th>0</th>\n",
       "      <td>A0231887U</td>\n",
       "      <td>DH</td>\n",
       "      <td>15.0</td>\n",
       "      <td>30</td>\n",
       "      <td>15</td>\n",
       "    </tr>\n",
       "    <tr>\n",
       "      <th>1</th>\n",
       "      <td>A0231887U</td>\n",
       "      <td>PA</td>\n",
       "      <td>12.0</td>\n",
       "      <td>22</td>\n",
       "      <td>11</td>\n",
       "    </tr>\n",
       "    <tr>\n",
       "      <th>2</th>\n",
       "      <td>A0231887U</td>\n",
       "      <td>OB</td>\n",
       "      <td>11.2</td>\n",
       "      <td>27</td>\n",
       "      <td>14</td>\n",
       "    </tr>\n",
       "  </tbody>\n",
       "</table>\n",
       "</div>"
      ],
      "text/plain": [
       "          id  nm  scr_memo  scr_proj  scr_poll\n",
       "0  A0231887U  DH      15.0        30        15\n",
       "1  A0231887U  PA      12.0        22        11\n",
       "2  A0231887U  OB      11.2        27        14"
      ]
     },
     "execution_count": 220,
     "metadata": {},
     "output_type": "execute_result"
    }
   ],
   "source": [
    "df.head(3)"
   ]
  },
  {
   "cell_type": "code",
   "execution_count": 221,
   "id": "debc22e4",
   "metadata": {},
   "outputs": [
    {
     "data": {
      "text/html": [
       "<div>\n",
       "<style scoped>\n",
       "    .dataframe tbody tr th:only-of-type {\n",
       "        vertical-align: middle;\n",
       "    }\n",
       "\n",
       "    .dataframe tbody tr th {\n",
       "        vertical-align: top;\n",
       "    }\n",
       "\n",
       "    .dataframe thead th {\n",
       "        text-align: right;\n",
       "    }\n",
       "</style>\n",
       "<table border=\"1\" class=\"dataframe\">\n",
       "  <thead>\n",
       "    <tr style=\"text-align: right;\">\n",
       "      <th></th>\n",
       "      <th>id</th>\n",
       "      <th>nm</th>\n",
       "      <th>scr_memo</th>\n",
       "      <th>scr_proj</th>\n",
       "      <th>scr_poll</th>\n",
       "    </tr>\n",
       "  </thead>\n",
       "  <tbody>\n",
       "    <tr>\n",
       "      <th>0</th>\n",
       "      <td>A0231887U</td>\n",
       "      <td>DH</td>\n",
       "      <td>15.0</td>\n",
       "      <td>30</td>\n",
       "      <td>15</td>\n",
       "    </tr>\n",
       "    <tr>\n",
       "      <th>1</th>\n",
       "      <td>A0231887U</td>\n",
       "      <td>PA</td>\n",
       "      <td>12.0</td>\n",
       "      <td>22</td>\n",
       "      <td>11</td>\n",
       "    </tr>\n",
       "    <tr>\n",
       "      <th>2</th>\n",
       "      <td>A0231887U</td>\n",
       "      <td>OB</td>\n",
       "      <td>11.2</td>\n",
       "      <td>27</td>\n",
       "      <td>14</td>\n",
       "    </tr>\n",
       "    <tr>\n",
       "      <th>3</th>\n",
       "      <td>A6535897U</td>\n",
       "      <td>BMH</td>\n",
       "      <td>13.0</td>\n",
       "      <td>19</td>\n",
       "      <td>15</td>\n",
       "    </tr>\n",
       "    <tr>\n",
       "      <th>4</th>\n",
       "      <td>A3238467U</td>\n",
       "      <td>NUS</td>\n",
       "      <td>14.0</td>\n",
       "      <td>25</td>\n",
       "      <td>9</td>\n",
       "    </tr>\n",
       "  </tbody>\n",
       "</table>\n",
       "</div>"
      ],
      "text/plain": [
       "          id   nm  scr_memo  scr_proj  scr_poll\n",
       "0  A0231887U   DH      15.0        30        15\n",
       "1  A0231887U   PA      12.0        22        11\n",
       "2  A0231887U   OB      11.2        27        14\n",
       "3  A6535897U  BMH      13.0        19        15\n",
       "4  A3238467U  NUS      14.0        25         9"
      ]
     },
     "execution_count": 221,
     "metadata": {},
     "output_type": "execute_result"
    }
   ],
   "source": [
    "df.tail()   # by default, tail function shows the last 6 rows of the dataframe"
   ]
  },
  {
   "cell_type": "code",
   "execution_count": 222,
   "id": "e13e15c3",
   "metadata": {},
   "outputs": [
    {
     "data": {
      "text/html": [
       "<div>\n",
       "<style scoped>\n",
       "    .dataframe tbody tr th:only-of-type {\n",
       "        vertical-align: middle;\n",
       "    }\n",
       "\n",
       "    .dataframe tbody tr th {\n",
       "        vertical-align: top;\n",
       "    }\n",
       "\n",
       "    .dataframe thead th {\n",
       "        text-align: right;\n",
       "    }\n",
       "</style>\n",
       "<table border=\"1\" class=\"dataframe\">\n",
       "  <thead>\n",
       "    <tr style=\"text-align: right;\">\n",
       "      <th></th>\n",
       "      <th>id</th>\n",
       "      <th>nm</th>\n",
       "      <th>scr_memo</th>\n",
       "      <th>scr_proj</th>\n",
       "      <th>scr_poll</th>\n",
       "    </tr>\n",
       "  </thead>\n",
       "  <tbody>\n",
       "    <tr>\n",
       "      <th>3</th>\n",
       "      <td>A6535897U</td>\n",
       "      <td>BMH</td>\n",
       "      <td>13.0</td>\n",
       "      <td>19</td>\n",
       "      <td>15</td>\n",
       "    </tr>\n",
       "    <tr>\n",
       "      <th>4</th>\n",
       "      <td>A3238467U</td>\n",
       "      <td>NUS</td>\n",
       "      <td>14.0</td>\n",
       "      <td>25</td>\n",
       "      <td>9</td>\n",
       "    </tr>\n",
       "  </tbody>\n",
       "</table>\n",
       "</div>"
      ],
      "text/plain": [
       "          id   nm  scr_memo  scr_proj  scr_poll\n",
       "3  A6535897U  BMH      13.0        19        15\n",
       "4  A3238467U  NUS      14.0        25         9"
      ]
     },
     "execution_count": 222,
     "metadata": {},
     "output_type": "execute_result"
    }
   ],
   "source": [
    "df.tail(2)"
   ]
  },
  {
   "cell_type": "code",
   "execution_count": 223,
   "id": "15226379",
   "metadata": {},
   "outputs": [
    {
     "data": {
      "text/html": [
       "<div>\n",
       "<style scoped>\n",
       "    .dataframe tbody tr th:only-of-type {\n",
       "        vertical-align: middle;\n",
       "    }\n",
       "\n",
       "    .dataframe tbody tr th {\n",
       "        vertical-align: top;\n",
       "    }\n",
       "\n",
       "    .dataframe thead th {\n",
       "        text-align: right;\n",
       "    }\n",
       "</style>\n",
       "<table border=\"1\" class=\"dataframe\">\n",
       "  <thead>\n",
       "    <tr style=\"text-align: right;\">\n",
       "      <th></th>\n",
       "      <th>id</th>\n",
       "      <th>nm</th>\n",
       "      <th>scr_memo</th>\n",
       "      <th>scr_proj</th>\n",
       "      <th>scr_poll</th>\n",
       "    </tr>\n",
       "  </thead>\n",
       "  <tbody>\n",
       "    <tr>\n",
       "      <th>0</th>\n",
       "      <td>A0231887U</td>\n",
       "      <td>DH</td>\n",
       "      <td>15.0</td>\n",
       "      <td>30</td>\n",
       "      <td>15</td>\n",
       "    </tr>\n",
       "    <tr>\n",
       "      <th>1</th>\n",
       "      <td>A0231887U</td>\n",
       "      <td>PA</td>\n",
       "      <td>12.0</td>\n",
       "      <td>22</td>\n",
       "      <td>11</td>\n",
       "    </tr>\n",
       "    <tr>\n",
       "      <th>2</th>\n",
       "      <td>A0231887U</td>\n",
       "      <td>OB</td>\n",
       "      <td>11.2</td>\n",
       "      <td>27</td>\n",
       "      <td>14</td>\n",
       "    </tr>\n",
       "    <tr>\n",
       "      <th>3</th>\n",
       "      <td>A6535897U</td>\n",
       "      <td>BMH</td>\n",
       "      <td>13.0</td>\n",
       "      <td>19</td>\n",
       "      <td>15</td>\n",
       "    </tr>\n",
       "    <tr>\n",
       "      <th>4</th>\n",
       "      <td>A3238467U</td>\n",
       "      <td>NUS</td>\n",
       "      <td>14.0</td>\n",
       "      <td>25</td>\n",
       "      <td>9</td>\n",
       "    </tr>\n",
       "  </tbody>\n",
       "</table>\n",
       "</div>"
      ],
      "text/plain": [
       "          id   nm  scr_memo  scr_proj  scr_poll\n",
       "0  A0231887U   DH      15.0        30        15\n",
       "1  A0231887U   PA      12.0        22        11\n",
       "2  A0231887U   OB      11.2        27        14\n",
       "3  A6535897U  BMH      13.0        19        15\n",
       "4  A3238467U  NUS      14.0        25         9"
      ]
     },
     "execution_count": 223,
     "metadata": {},
     "output_type": "execute_result"
    }
   ],
   "source": [
    "df"
   ]
  },
  {
   "cell_type": "code",
   "execution_count": 224,
   "id": "82e6c747",
   "metadata": {},
   "outputs": [
    {
     "name": "stdout",
     "output_type": "stream",
     "text": [
      "<class 'pandas.core.frame.DataFrame'>\n",
      "RangeIndex: 5 entries, 0 to 4\n",
      "Data columns (total 5 columns):\n",
      " #   Column    Non-Null Count  Dtype  \n",
      "---  ------    --------------  -----  \n",
      " 0   id        5 non-null      object \n",
      " 1   nm        5 non-null      object \n",
      " 2   scr_memo  5 non-null      float64\n",
      " 3   scr_proj  5 non-null      int64  \n",
      " 4   scr_poll  5 non-null      int64  \n",
      "dtypes: float64(1), int64(2), object(2)\n",
      "memory usage: 328.0+ bytes\n"
     ]
    }
   ],
   "source": [
    "df.info()   # information"
   ]
  },
  {
   "cell_type": "code",
   "execution_count": 225,
   "id": "8a820dbe",
   "metadata": {},
   "outputs": [
    {
     "data": {
      "text/html": [
       "<div>\n",
       "<style scoped>\n",
       "    .dataframe tbody tr th:only-of-type {\n",
       "        vertical-align: middle;\n",
       "    }\n",
       "\n",
       "    .dataframe tbody tr th {\n",
       "        vertical-align: top;\n",
       "    }\n",
       "\n",
       "    .dataframe thead th {\n",
       "        text-align: right;\n",
       "    }\n",
       "</style>\n",
       "<table border=\"1\" class=\"dataframe\">\n",
       "  <thead>\n",
       "    <tr style=\"text-align: right;\">\n",
       "      <th></th>\n",
       "      <th>id</th>\n",
       "      <th>nm</th>\n",
       "      <th>scr_memo</th>\n",
       "      <th>scr_proj</th>\n",
       "      <th>scr_poll</th>\n",
       "    </tr>\n",
       "  </thead>\n",
       "  <tbody>\n",
       "    <tr>\n",
       "      <th>0</th>\n",
       "      <td>A0231887U</td>\n",
       "      <td>DH</td>\n",
       "      <td>15.0</td>\n",
       "      <td>30</td>\n",
       "      <td>15</td>\n",
       "    </tr>\n",
       "    <tr>\n",
       "      <th>1</th>\n",
       "      <td>A0231887U</td>\n",
       "      <td>PA</td>\n",
       "      <td>12.0</td>\n",
       "      <td>22</td>\n",
       "      <td>11</td>\n",
       "    </tr>\n",
       "    <tr>\n",
       "      <th>2</th>\n",
       "      <td>A0231887U</td>\n",
       "      <td>OB</td>\n",
       "      <td>11.2</td>\n",
       "      <td>27</td>\n",
       "      <td>14</td>\n",
       "    </tr>\n",
       "    <tr>\n",
       "      <th>3</th>\n",
       "      <td>A6535897U</td>\n",
       "      <td>BMH</td>\n",
       "      <td>13.0</td>\n",
       "      <td>19</td>\n",
       "      <td>15</td>\n",
       "    </tr>\n",
       "    <tr>\n",
       "      <th>4</th>\n",
       "      <td>A3238467U</td>\n",
       "      <td>NUS</td>\n",
       "      <td>14.0</td>\n",
       "      <td>25</td>\n",
       "      <td>9</td>\n",
       "    </tr>\n",
       "  </tbody>\n",
       "</table>\n",
       "</div>"
      ],
      "text/plain": [
       "          id   nm  scr_memo  scr_proj  scr_poll\n",
       "0  A0231887U   DH      15.0        30        15\n",
       "1  A0231887U   PA      12.0        22        11\n",
       "2  A0231887U   OB      11.2        27        14\n",
       "3  A6535897U  BMH      13.0        19        15\n",
       "4  A3238467U  NUS      14.0        25         9"
      ]
     },
     "execution_count": 225,
     "metadata": {},
     "output_type": "execute_result"
    }
   ],
   "source": [
    "df"
   ]
  },
  {
   "cell_type": "code",
   "execution_count": 226,
   "id": "dd4ccd21",
   "metadata": {},
   "outputs": [
    {
     "data": {
      "text/html": [
       "<div>\n",
       "<style scoped>\n",
       "    .dataframe tbody tr th:only-of-type {\n",
       "        vertical-align: middle;\n",
       "    }\n",
       "\n",
       "    .dataframe tbody tr th {\n",
       "        vertical-align: top;\n",
       "    }\n",
       "\n",
       "    .dataframe thead th {\n",
       "        text-align: right;\n",
       "    }\n",
       "</style>\n",
       "<table border=\"1\" class=\"dataframe\">\n",
       "  <thead>\n",
       "    <tr style=\"text-align: right;\">\n",
       "      <th></th>\n",
       "      <th>scr_memo</th>\n",
       "      <th>scr_proj</th>\n",
       "      <th>scr_poll</th>\n",
       "    </tr>\n",
       "  </thead>\n",
       "  <tbody>\n",
       "    <tr>\n",
       "      <th>count</th>\n",
       "      <td>5.00000</td>\n",
       "      <td>5.00000</td>\n",
       "      <td>5.000000</td>\n",
       "    </tr>\n",
       "    <tr>\n",
       "      <th>mean</th>\n",
       "      <td>13.04000</td>\n",
       "      <td>24.60000</td>\n",
       "      <td>12.800000</td>\n",
       "    </tr>\n",
       "    <tr>\n",
       "      <th>std</th>\n",
       "      <td>1.51921</td>\n",
       "      <td>4.27785</td>\n",
       "      <td>2.683282</td>\n",
       "    </tr>\n",
       "    <tr>\n",
       "      <th>min</th>\n",
       "      <td>11.20000</td>\n",
       "      <td>19.00000</td>\n",
       "      <td>9.000000</td>\n",
       "    </tr>\n",
       "    <tr>\n",
       "      <th>25%</th>\n",
       "      <td>12.00000</td>\n",
       "      <td>22.00000</td>\n",
       "      <td>11.000000</td>\n",
       "    </tr>\n",
       "    <tr>\n",
       "      <th>50%</th>\n",
       "      <td>13.00000</td>\n",
       "      <td>25.00000</td>\n",
       "      <td>14.000000</td>\n",
       "    </tr>\n",
       "    <tr>\n",
       "      <th>75%</th>\n",
       "      <td>14.00000</td>\n",
       "      <td>27.00000</td>\n",
       "      <td>15.000000</td>\n",
       "    </tr>\n",
       "    <tr>\n",
       "      <th>max</th>\n",
       "      <td>15.00000</td>\n",
       "      <td>30.00000</td>\n",
       "      <td>15.000000</td>\n",
       "    </tr>\n",
       "  </tbody>\n",
       "</table>\n",
       "</div>"
      ],
      "text/plain": [
       "       scr_memo  scr_proj   scr_poll\n",
       "count   5.00000   5.00000   5.000000\n",
       "mean   13.04000  24.60000  12.800000\n",
       "std     1.51921   4.27785   2.683282\n",
       "min    11.20000  19.00000   9.000000\n",
       "25%    12.00000  22.00000  11.000000\n",
       "50%    13.00000  25.00000  14.000000\n",
       "75%    14.00000  27.00000  15.000000\n",
       "max    15.00000  30.00000  15.000000"
      ]
     },
     "execution_count": 226,
     "metadata": {},
     "output_type": "execute_result"
    }
   ],
   "source": [
    "df.describe()"
   ]
  },
  {
   "cell_type": "code",
   "execution_count": 227,
   "id": "501eb9f2",
   "metadata": {},
   "outputs": [
    {
     "data": {
      "text/html": [
       "<div>\n",
       "<style scoped>\n",
       "    .dataframe tbody tr th:only-of-type {\n",
       "        vertical-align: middle;\n",
       "    }\n",
       "\n",
       "    .dataframe tbody tr th {\n",
       "        vertical-align: top;\n",
       "    }\n",
       "\n",
       "    .dataframe thead th {\n",
       "        text-align: right;\n",
       "    }\n",
       "</style>\n",
       "<table border=\"1\" class=\"dataframe\">\n",
       "  <thead>\n",
       "    <tr style=\"text-align: right;\">\n",
       "      <th></th>\n",
       "      <th>id</th>\n",
       "      <th>nm</th>\n",
       "      <th>scr_memo</th>\n",
       "      <th>scr_proj</th>\n",
       "      <th>scr_poll</th>\n",
       "    </tr>\n",
       "  </thead>\n",
       "  <tbody>\n",
       "    <tr>\n",
       "      <th>count</th>\n",
       "      <td>5</td>\n",
       "      <td>5</td>\n",
       "      <td>5.00000</td>\n",
       "      <td>5.00000</td>\n",
       "      <td>5.000000</td>\n",
       "    </tr>\n",
       "    <tr>\n",
       "      <th>unique</th>\n",
       "      <td>3</td>\n",
       "      <td>5</td>\n",
       "      <td>NaN</td>\n",
       "      <td>NaN</td>\n",
       "      <td>NaN</td>\n",
       "    </tr>\n",
       "    <tr>\n",
       "      <th>top</th>\n",
       "      <td>A0231887U</td>\n",
       "      <td>DH</td>\n",
       "      <td>NaN</td>\n",
       "      <td>NaN</td>\n",
       "      <td>NaN</td>\n",
       "    </tr>\n",
       "    <tr>\n",
       "      <th>freq</th>\n",
       "      <td>3</td>\n",
       "      <td>1</td>\n",
       "      <td>NaN</td>\n",
       "      <td>NaN</td>\n",
       "      <td>NaN</td>\n",
       "    </tr>\n",
       "    <tr>\n",
       "      <th>mean</th>\n",
       "      <td>NaN</td>\n",
       "      <td>NaN</td>\n",
       "      <td>13.04000</td>\n",
       "      <td>24.60000</td>\n",
       "      <td>12.800000</td>\n",
       "    </tr>\n",
       "    <tr>\n",
       "      <th>std</th>\n",
       "      <td>NaN</td>\n",
       "      <td>NaN</td>\n",
       "      <td>1.51921</td>\n",
       "      <td>4.27785</td>\n",
       "      <td>2.683282</td>\n",
       "    </tr>\n",
       "    <tr>\n",
       "      <th>min</th>\n",
       "      <td>NaN</td>\n",
       "      <td>NaN</td>\n",
       "      <td>11.20000</td>\n",
       "      <td>19.00000</td>\n",
       "      <td>9.000000</td>\n",
       "    </tr>\n",
       "    <tr>\n",
       "      <th>25%</th>\n",
       "      <td>NaN</td>\n",
       "      <td>NaN</td>\n",
       "      <td>12.00000</td>\n",
       "      <td>22.00000</td>\n",
       "      <td>11.000000</td>\n",
       "    </tr>\n",
       "    <tr>\n",
       "      <th>50%</th>\n",
       "      <td>NaN</td>\n",
       "      <td>NaN</td>\n",
       "      <td>13.00000</td>\n",
       "      <td>25.00000</td>\n",
       "      <td>14.000000</td>\n",
       "    </tr>\n",
       "    <tr>\n",
       "      <th>75%</th>\n",
       "      <td>NaN</td>\n",
       "      <td>NaN</td>\n",
       "      <td>14.00000</td>\n",
       "      <td>27.00000</td>\n",
       "      <td>15.000000</td>\n",
       "    </tr>\n",
       "    <tr>\n",
       "      <th>max</th>\n",
       "      <td>NaN</td>\n",
       "      <td>NaN</td>\n",
       "      <td>15.00000</td>\n",
       "      <td>30.00000</td>\n",
       "      <td>15.000000</td>\n",
       "    </tr>\n",
       "  </tbody>\n",
       "</table>\n",
       "</div>"
      ],
      "text/plain": [
       "               id   nm  scr_memo  scr_proj   scr_poll\n",
       "count           5    5   5.00000   5.00000   5.000000\n",
       "unique          3    5       NaN       NaN        NaN\n",
       "top     A0231887U   DH       NaN       NaN        NaN\n",
       "freq            3    1       NaN       NaN        NaN\n",
       "mean          NaN  NaN  13.04000  24.60000  12.800000\n",
       "std           NaN  NaN   1.51921   4.27785   2.683282\n",
       "min           NaN  NaN  11.20000  19.00000   9.000000\n",
       "25%           NaN  NaN  12.00000  22.00000  11.000000\n",
       "50%           NaN  NaN  13.00000  25.00000  14.000000\n",
       "75%           NaN  NaN  14.00000  27.00000  15.000000\n",
       "max           NaN  NaN  15.00000  30.00000  15.000000"
      ]
     },
     "execution_count": 227,
     "metadata": {},
     "output_type": "execute_result"
    }
   ],
   "source": [
    "df.describe(include = 'all')"
   ]
  },
  {
   "cell_type": "code",
   "execution_count": 228,
   "id": "4528d43e",
   "metadata": {},
   "outputs": [
    {
     "data": {
      "text/html": [
       "<div>\n",
       "<style scoped>\n",
       "    .dataframe tbody tr th:only-of-type {\n",
       "        vertical-align: middle;\n",
       "    }\n",
       "\n",
       "    .dataframe tbody tr th {\n",
       "        vertical-align: top;\n",
       "    }\n",
       "\n",
       "    .dataframe thead th {\n",
       "        text-align: right;\n",
       "    }\n",
       "</style>\n",
       "<table border=\"1\" class=\"dataframe\">\n",
       "  <thead>\n",
       "    <tr style=\"text-align: right;\">\n",
       "      <th></th>\n",
       "      <th>id</th>\n",
       "      <th>nm</th>\n",
       "      <th>scr_memo</th>\n",
       "      <th>scr_proj</th>\n",
       "      <th>scr_poll</th>\n",
       "    </tr>\n",
       "  </thead>\n",
       "  <tbody>\n",
       "    <tr>\n",
       "      <th>0</th>\n",
       "      <td>A0231887U</td>\n",
       "      <td>DH</td>\n",
       "      <td>15.0</td>\n",
       "      <td>30</td>\n",
       "      <td>15</td>\n",
       "    </tr>\n",
       "    <tr>\n",
       "      <th>1</th>\n",
       "      <td>A0231887U</td>\n",
       "      <td>PA</td>\n",
       "      <td>12.0</td>\n",
       "      <td>22</td>\n",
       "      <td>11</td>\n",
       "    </tr>\n",
       "    <tr>\n",
       "      <th>2</th>\n",
       "      <td>A0231887U</td>\n",
       "      <td>OB</td>\n",
       "      <td>11.2</td>\n",
       "      <td>27</td>\n",
       "      <td>14</td>\n",
       "    </tr>\n",
       "    <tr>\n",
       "      <th>3</th>\n",
       "      <td>A6535897U</td>\n",
       "      <td>BMH</td>\n",
       "      <td>13.0</td>\n",
       "      <td>19</td>\n",
       "      <td>15</td>\n",
       "    </tr>\n",
       "    <tr>\n",
       "      <th>4</th>\n",
       "      <td>A3238467U</td>\n",
       "      <td>NUS</td>\n",
       "      <td>14.0</td>\n",
       "      <td>25</td>\n",
       "      <td>9</td>\n",
       "    </tr>\n",
       "  </tbody>\n",
       "</table>\n",
       "</div>"
      ],
      "text/plain": [
       "          id   nm  scr_memo  scr_proj  scr_poll\n",
       "0  A0231887U   DH      15.0        30        15\n",
       "1  A0231887U   PA      12.0        22        11\n",
       "2  A0231887U   OB      11.2        27        14\n",
       "3  A6535897U  BMH      13.0        19        15\n",
       "4  A3238467U  NUS      14.0        25         9"
      ]
     },
     "execution_count": 228,
     "metadata": {},
     "output_type": "execute_result"
    }
   ],
   "source": [
    "df"
   ]
  },
  {
   "cell_type": "code",
   "execution_count": 229,
   "id": "822260ae",
   "metadata": {},
   "outputs": [
    {
     "data": {
      "text/html": [
       "<div>\n",
       "<style scoped>\n",
       "    .dataframe tbody tr th:only-of-type {\n",
       "        vertical-align: middle;\n",
       "    }\n",
       "\n",
       "    .dataframe tbody tr th {\n",
       "        vertical-align: top;\n",
       "    }\n",
       "\n",
       "    .dataframe thead th {\n",
       "        text-align: right;\n",
       "    }\n",
       "</style>\n",
       "<table border=\"1\" class=\"dataframe\">\n",
       "  <thead>\n",
       "    <tr style=\"text-align: right;\">\n",
       "      <th></th>\n",
       "      <th>scr_memo</th>\n",
       "      <th>scr_proj</th>\n",
       "      <th>scr_poll</th>\n",
       "    </tr>\n",
       "  </thead>\n",
       "  <tbody>\n",
       "    <tr>\n",
       "      <th>scr_memo</th>\n",
       "      <td>1.000000</td>\n",
       "      <td>0.364674</td>\n",
       "      <td>0.014719</td>\n",
       "    </tr>\n",
       "    <tr>\n",
       "      <th>scr_proj</th>\n",
       "      <td>0.364674</td>\n",
       "      <td>1.000000</td>\n",
       "      <td>0.121965</td>\n",
       "    </tr>\n",
       "    <tr>\n",
       "      <th>scr_poll</th>\n",
       "      <td>0.014719</td>\n",
       "      <td>0.121965</td>\n",
       "      <td>1.000000</td>\n",
       "    </tr>\n",
       "  </tbody>\n",
       "</table>\n",
       "</div>"
      ],
      "text/plain": [
       "          scr_memo  scr_proj  scr_poll\n",
       "scr_memo  1.000000  0.364674  0.014719\n",
       "scr_proj  0.364674  1.000000  0.121965\n",
       "scr_poll  0.014719  0.121965  1.000000"
      ]
     },
     "execution_count": 229,
     "metadata": {},
     "output_type": "execute_result"
    }
   ],
   "source": [
    "df.corr()  # correlation >> "
   ]
  },
  {
   "cell_type": "markdown",
   "id": "7fc33c1d",
   "metadata": {},
   "source": [
    "#### DataFrame - Indexing & Slicing\n",
    " - using index or column name\n",
    "   - Ref.) https://github.com/hwaneest/Lectures/blob/master/%5BPractice%5D%20PP_loc_and_iloc.ipynb\n",
    " - Here, let's just slice the DataFrame using squared bracket.\n"
   ]
  },
  {
   "cell_type": "code",
   "execution_count": 230,
   "id": "6150ae2e",
   "metadata": {},
   "outputs": [
    {
     "data": {
      "text/html": [
       "<div>\n",
       "<style scoped>\n",
       "    .dataframe tbody tr th:only-of-type {\n",
       "        vertical-align: middle;\n",
       "    }\n",
       "\n",
       "    .dataframe tbody tr th {\n",
       "        vertical-align: top;\n",
       "    }\n",
       "\n",
       "    .dataframe thead th {\n",
       "        text-align: right;\n",
       "    }\n",
       "</style>\n",
       "<table border=\"1\" class=\"dataframe\">\n",
       "  <thead>\n",
       "    <tr style=\"text-align: right;\">\n",
       "      <th></th>\n",
       "      <th>id</th>\n",
       "      <th>nm</th>\n",
       "      <th>scr_memo</th>\n",
       "      <th>scr_proj</th>\n",
       "      <th>scr_poll</th>\n",
       "    </tr>\n",
       "  </thead>\n",
       "  <tbody>\n",
       "    <tr>\n",
       "      <th>0</th>\n",
       "      <td>A0231887U</td>\n",
       "      <td>DH</td>\n",
       "      <td>15.0</td>\n",
       "      <td>30</td>\n",
       "      <td>15</td>\n",
       "    </tr>\n",
       "    <tr>\n",
       "      <th>1</th>\n",
       "      <td>A0231887U</td>\n",
       "      <td>PA</td>\n",
       "      <td>12.0</td>\n",
       "      <td>22</td>\n",
       "      <td>11</td>\n",
       "    </tr>\n",
       "    <tr>\n",
       "      <th>2</th>\n",
       "      <td>A0231887U</td>\n",
       "      <td>OB</td>\n",
       "      <td>11.2</td>\n",
       "      <td>27</td>\n",
       "      <td>14</td>\n",
       "    </tr>\n",
       "    <tr>\n",
       "      <th>3</th>\n",
       "      <td>A6535897U</td>\n",
       "      <td>BMH</td>\n",
       "      <td>13.0</td>\n",
       "      <td>19</td>\n",
       "      <td>15</td>\n",
       "    </tr>\n",
       "    <tr>\n",
       "      <th>4</th>\n",
       "      <td>A3238467U</td>\n",
       "      <td>NUS</td>\n",
       "      <td>14.0</td>\n",
       "      <td>25</td>\n",
       "      <td>9</td>\n",
       "    </tr>\n",
       "  </tbody>\n",
       "</table>\n",
       "</div>"
      ],
      "text/plain": [
       "          id   nm  scr_memo  scr_proj  scr_poll\n",
       "0  A0231887U   DH      15.0        30        15\n",
       "1  A0231887U   PA      12.0        22        11\n",
       "2  A0231887U   OB      11.2        27        14\n",
       "3  A6535897U  BMH      13.0        19        15\n",
       "4  A3238467U  NUS      14.0        25         9"
      ]
     },
     "execution_count": 230,
     "metadata": {},
     "output_type": "execute_result"
    }
   ],
   "source": [
    "df"
   ]
  },
  {
   "cell_type": "code",
   "execution_count": 231,
   "id": "8f214048",
   "metadata": {},
   "outputs": [
    {
     "data": {
      "text/plain": [
       "RangeIndex(start=0, stop=5, step=1)"
      ]
     },
     "execution_count": 231,
     "metadata": {},
     "output_type": "execute_result"
    }
   ],
   "source": [
    "df.index"
   ]
  },
  {
   "cell_type": "code",
   "execution_count": 232,
   "id": "fdf88eea",
   "metadata": {},
   "outputs": [
    {
     "data": {
      "text/plain": [
       "[0, 1, 2, 3, 4]"
      ]
     },
     "execution_count": 232,
     "metadata": {},
     "output_type": "execute_result"
    }
   ],
   "source": [
    "list(df.index)"
   ]
  },
  {
   "cell_type": "code",
   "execution_count": 233,
   "id": "5681788f",
   "metadata": {},
   "outputs": [
    {
     "data": {
      "text/plain": [
       "Index(['id', 'nm', 'scr_memo', 'scr_proj', 'scr_poll'], dtype='object')"
      ]
     },
     "execution_count": 233,
     "metadata": {},
     "output_type": "execute_result"
    }
   ],
   "source": [
    "df.columns"
   ]
  },
  {
   "cell_type": "markdown",
   "id": "0a7f5cd8",
   "metadata": {},
   "source": [
    "#### Slicing DataFrame by column name"
   ]
  },
  {
   "cell_type": "code",
   "execution_count": 234,
   "id": "ffacd64e",
   "metadata": {},
   "outputs": [
    {
     "data": {
      "text/html": [
       "<div>\n",
       "<style scoped>\n",
       "    .dataframe tbody tr th:only-of-type {\n",
       "        vertical-align: middle;\n",
       "    }\n",
       "\n",
       "    .dataframe tbody tr th {\n",
       "        vertical-align: top;\n",
       "    }\n",
       "\n",
       "    .dataframe thead th {\n",
       "        text-align: right;\n",
       "    }\n",
       "</style>\n",
       "<table border=\"1\" class=\"dataframe\">\n",
       "  <thead>\n",
       "    <tr style=\"text-align: right;\">\n",
       "      <th></th>\n",
       "      <th>id</th>\n",
       "      <th>nm</th>\n",
       "      <th>scr_memo</th>\n",
       "      <th>scr_proj</th>\n",
       "      <th>scr_poll</th>\n",
       "    </tr>\n",
       "  </thead>\n",
       "  <tbody>\n",
       "    <tr>\n",
       "      <th>0</th>\n",
       "      <td>A0231887U</td>\n",
       "      <td>DH</td>\n",
       "      <td>15.0</td>\n",
       "      <td>30</td>\n",
       "      <td>15</td>\n",
       "    </tr>\n",
       "    <tr>\n",
       "      <th>1</th>\n",
       "      <td>A0231887U</td>\n",
       "      <td>PA</td>\n",
       "      <td>12.0</td>\n",
       "      <td>22</td>\n",
       "      <td>11</td>\n",
       "    </tr>\n",
       "    <tr>\n",
       "      <th>2</th>\n",
       "      <td>A0231887U</td>\n",
       "      <td>OB</td>\n",
       "      <td>11.2</td>\n",
       "      <td>27</td>\n",
       "      <td>14</td>\n",
       "    </tr>\n",
       "    <tr>\n",
       "      <th>3</th>\n",
       "      <td>A6535897U</td>\n",
       "      <td>BMH</td>\n",
       "      <td>13.0</td>\n",
       "      <td>19</td>\n",
       "      <td>15</td>\n",
       "    </tr>\n",
       "    <tr>\n",
       "      <th>4</th>\n",
       "      <td>A3238467U</td>\n",
       "      <td>NUS</td>\n",
       "      <td>14.0</td>\n",
       "      <td>25</td>\n",
       "      <td>9</td>\n",
       "    </tr>\n",
       "  </tbody>\n",
       "</table>\n",
       "</div>"
      ],
      "text/plain": [
       "          id   nm  scr_memo  scr_proj  scr_poll\n",
       "0  A0231887U   DH      15.0        30        15\n",
       "1  A0231887U   PA      12.0        22        11\n",
       "2  A0231887U   OB      11.2        27        14\n",
       "3  A6535897U  BMH      13.0        19        15\n",
       "4  A3238467U  NUS      14.0        25         9"
      ]
     },
     "execution_count": 234,
     "metadata": {},
     "output_type": "execute_result"
    }
   ],
   "source": [
    "df"
   ]
  },
  {
   "cell_type": "code",
   "execution_count": 235,
   "id": "bd78d587",
   "metadata": {},
   "outputs": [
    {
     "data": {
      "text/plain": [
       "0    A0231887U\n",
       "1    A0231887U\n",
       "2    A0231887U\n",
       "3    A6535897U\n",
       "4    A3238467U\n",
       "Name: id, dtype: object"
      ]
     },
     "execution_count": 235,
     "metadata": {},
     "output_type": "execute_result"
    }
   ],
   "source": [
    "df['id']   # returns the column >> returns the series"
   ]
  },
  {
   "cell_type": "code",
   "execution_count": 236,
   "id": "f2ad0055",
   "metadata": {},
   "outputs": [
    {
     "data": {
      "text/plain": [
       "0     DH\n",
       "1     PA\n",
       "2     OB\n",
       "3    BMH\n",
       "4    NUS\n",
       "Name: nm, dtype: object"
      ]
     },
     "execution_count": 236,
     "metadata": {},
     "output_type": "execute_result"
    }
   ],
   "source": [
    "df['nm']"
   ]
  },
  {
   "cell_type": "code",
   "execution_count": 237,
   "id": "362ffdc4",
   "metadata": {},
   "outputs": [
    {
     "data": {
      "text/plain": [
       "0    False\n",
       "1    False\n",
       "2    False\n",
       "3     True\n",
       "4    False\n",
       "Name: nm, dtype: bool"
      ]
     },
     "execution_count": 237,
     "metadata": {},
     "output_type": "execute_result"
    }
   ],
   "source": [
    "df['nm'] == 'BMH'                              # flag series that if the name is same as 'BMH'\n",
    "# '==' : are the 2 things equivalent? \n",
    "# >> if they are equivalent, it returns True \n",
    "#    if they are not, it returns False"
   ]
  },
  {
   "cell_type": "code",
   "execution_count": 238,
   "id": "d0c2e803",
   "metadata": {},
   "outputs": [
    {
     "data": {
      "text/html": [
       "<div>\n",
       "<style scoped>\n",
       "    .dataframe tbody tr th:only-of-type {\n",
       "        vertical-align: middle;\n",
       "    }\n",
       "\n",
       "    .dataframe tbody tr th {\n",
       "        vertical-align: top;\n",
       "    }\n",
       "\n",
       "    .dataframe thead th {\n",
       "        text-align: right;\n",
       "    }\n",
       "</style>\n",
       "<table border=\"1\" class=\"dataframe\">\n",
       "  <thead>\n",
       "    <tr style=\"text-align: right;\">\n",
       "      <th></th>\n",
       "      <th>id</th>\n",
       "      <th>nm</th>\n",
       "      <th>scr_memo</th>\n",
       "      <th>scr_proj</th>\n",
       "      <th>scr_poll</th>\n",
       "    </tr>\n",
       "  </thead>\n",
       "  <tbody>\n",
       "    <tr>\n",
       "      <th>0</th>\n",
       "      <td>A0231887U</td>\n",
       "      <td>DH</td>\n",
       "      <td>15.0</td>\n",
       "      <td>30</td>\n",
       "      <td>15</td>\n",
       "    </tr>\n",
       "    <tr>\n",
       "      <th>1</th>\n",
       "      <td>A0231887U</td>\n",
       "      <td>PA</td>\n",
       "      <td>12.0</td>\n",
       "      <td>22</td>\n",
       "      <td>11</td>\n",
       "    </tr>\n",
       "    <tr>\n",
       "      <th>2</th>\n",
       "      <td>A0231887U</td>\n",
       "      <td>OB</td>\n",
       "      <td>11.2</td>\n",
       "      <td>27</td>\n",
       "      <td>14</td>\n",
       "    </tr>\n",
       "    <tr>\n",
       "      <th>3</th>\n",
       "      <td>A6535897U</td>\n",
       "      <td>BMH</td>\n",
       "      <td>13.0</td>\n",
       "      <td>19</td>\n",
       "      <td>15</td>\n",
       "    </tr>\n",
       "    <tr>\n",
       "      <th>4</th>\n",
       "      <td>A3238467U</td>\n",
       "      <td>NUS</td>\n",
       "      <td>14.0</td>\n",
       "      <td>25</td>\n",
       "      <td>9</td>\n",
       "    </tr>\n",
       "  </tbody>\n",
       "</table>\n",
       "</div>"
      ],
      "text/plain": [
       "          id   nm  scr_memo  scr_proj  scr_poll\n",
       "0  A0231887U   DH      15.0        30        15\n",
       "1  A0231887U   PA      12.0        22        11\n",
       "2  A0231887U   OB      11.2        27        14\n",
       "3  A6535897U  BMH      13.0        19        15\n",
       "4  A3238467U  NUS      14.0        25         9"
      ]
     },
     "execution_count": 238,
     "metadata": {},
     "output_type": "execute_result"
    }
   ],
   "source": [
    "df"
   ]
  },
  {
   "cell_type": "code",
   "execution_count": 239,
   "id": "9f698dab",
   "metadata": {},
   "outputs": [
    {
     "data": {
      "text/plain": [
       "0    False\n",
       "1    False\n",
       "2    False\n",
       "3    False\n",
       "4     True\n",
       "Name: id, dtype: bool"
      ]
     },
     "execution_count": 239,
     "metadata": {},
     "output_type": "execute_result"
    }
   ],
   "source": [
    "df['id'] == 'A3238467U'  # flag series that identify if the id is same as 'A3238467U'."
   ]
  },
  {
   "cell_type": "code",
   "execution_count": 240,
   "id": "fd8e89ac",
   "metadata": {},
   "outputs": [
    {
     "data": {
      "text/plain": [
       "0    30\n",
       "1    22\n",
       "2    27\n",
       "3    19\n",
       "4    25\n",
       "Name: scr_proj, dtype: int64"
      ]
     },
     "execution_count": 240,
     "metadata": {},
     "output_type": "execute_result"
    }
   ],
   "source": [
    "df['scr_proj']"
   ]
  },
  {
   "cell_type": "code",
   "execution_count": 241,
   "id": "1bd93379",
   "metadata": {},
   "outputs": [
    {
     "data": {
      "text/plain": [
       "0     True\n",
       "1    False\n",
       "2     True\n",
       "3    False\n",
       "4     True\n",
       "Name: scr_proj, dtype: bool"
      ]
     },
     "execution_count": 241,
     "metadata": {},
     "output_type": "execute_result"
    }
   ],
   "source": [
    "df['scr_proj'] > 24"
   ]
  },
  {
   "cell_type": "code",
   "execution_count": 242,
   "id": "5f0c89a5",
   "metadata": {},
   "outputs": [
    {
     "data": {
      "text/html": [
       "<div>\n",
       "<style scoped>\n",
       "    .dataframe tbody tr th:only-of-type {\n",
       "        vertical-align: middle;\n",
       "    }\n",
       "\n",
       "    .dataframe tbody tr th {\n",
       "        vertical-align: top;\n",
       "    }\n",
       "\n",
       "    .dataframe thead th {\n",
       "        text-align: right;\n",
       "    }\n",
       "</style>\n",
       "<table border=\"1\" class=\"dataframe\">\n",
       "  <thead>\n",
       "    <tr style=\"text-align: right;\">\n",
       "      <th></th>\n",
       "      <th>id</th>\n",
       "      <th>nm</th>\n",
       "      <th>scr_memo</th>\n",
       "      <th>scr_proj</th>\n",
       "      <th>scr_poll</th>\n",
       "    </tr>\n",
       "  </thead>\n",
       "  <tbody>\n",
       "    <tr>\n",
       "      <th>0</th>\n",
       "      <td>A0231887U</td>\n",
       "      <td>DH</td>\n",
       "      <td>15.0</td>\n",
       "      <td>30</td>\n",
       "      <td>15</td>\n",
       "    </tr>\n",
       "    <tr>\n",
       "      <th>1</th>\n",
       "      <td>A0231887U</td>\n",
       "      <td>PA</td>\n",
       "      <td>12.0</td>\n",
       "      <td>22</td>\n",
       "      <td>11</td>\n",
       "    </tr>\n",
       "    <tr>\n",
       "      <th>2</th>\n",
       "      <td>A0231887U</td>\n",
       "      <td>OB</td>\n",
       "      <td>11.2</td>\n",
       "      <td>27</td>\n",
       "      <td>14</td>\n",
       "    </tr>\n",
       "    <tr>\n",
       "      <th>3</th>\n",
       "      <td>A6535897U</td>\n",
       "      <td>BMH</td>\n",
       "      <td>13.0</td>\n",
       "      <td>19</td>\n",
       "      <td>15</td>\n",
       "    </tr>\n",
       "    <tr>\n",
       "      <th>4</th>\n",
       "      <td>A3238467U</td>\n",
       "      <td>NUS</td>\n",
       "      <td>14.0</td>\n",
       "      <td>25</td>\n",
       "      <td>9</td>\n",
       "    </tr>\n",
       "  </tbody>\n",
       "</table>\n",
       "</div>"
      ],
      "text/plain": [
       "          id   nm  scr_memo  scr_proj  scr_poll\n",
       "0  A0231887U   DH      15.0        30        15\n",
       "1  A0231887U   PA      12.0        22        11\n",
       "2  A0231887U   OB      11.2        27        14\n",
       "3  A6535897U  BMH      13.0        19        15\n",
       "4  A3238467U  NUS      14.0        25         9"
      ]
     },
     "execution_count": 242,
     "metadata": {},
     "output_type": "execute_result"
    }
   ],
   "source": [
    "df"
   ]
  },
  {
   "cell_type": "markdown",
   "id": "76297936",
   "metadata": {},
   "source": [
    "#### I want to filter the students who got the score over 24"
   ]
  },
  {
   "cell_type": "code",
   "execution_count": 243,
   "id": "33e7c41b",
   "metadata": {},
   "outputs": [
    {
     "data": {
      "text/html": [
       "<div>\n",
       "<style scoped>\n",
       "    .dataframe tbody tr th:only-of-type {\n",
       "        vertical-align: middle;\n",
       "    }\n",
       "\n",
       "    .dataframe tbody tr th {\n",
       "        vertical-align: top;\n",
       "    }\n",
       "\n",
       "    .dataframe thead th {\n",
       "        text-align: right;\n",
       "    }\n",
       "</style>\n",
       "<table border=\"1\" class=\"dataframe\">\n",
       "  <thead>\n",
       "    <tr style=\"text-align: right;\">\n",
       "      <th></th>\n",
       "      <th>id</th>\n",
       "      <th>nm</th>\n",
       "      <th>scr_memo</th>\n",
       "      <th>scr_proj</th>\n",
       "      <th>scr_poll</th>\n",
       "    </tr>\n",
       "  </thead>\n",
       "  <tbody>\n",
       "    <tr>\n",
       "      <th>0</th>\n",
       "      <td>A0231887U</td>\n",
       "      <td>DH</td>\n",
       "      <td>15.0</td>\n",
       "      <td>30</td>\n",
       "      <td>15</td>\n",
       "    </tr>\n",
       "    <tr>\n",
       "      <th>2</th>\n",
       "      <td>A0231887U</td>\n",
       "      <td>OB</td>\n",
       "      <td>11.2</td>\n",
       "      <td>27</td>\n",
       "      <td>14</td>\n",
       "    </tr>\n",
       "    <tr>\n",
       "      <th>4</th>\n",
       "      <td>A3238467U</td>\n",
       "      <td>NUS</td>\n",
       "      <td>14.0</td>\n",
       "      <td>25</td>\n",
       "      <td>9</td>\n",
       "    </tr>\n",
       "  </tbody>\n",
       "</table>\n",
       "</div>"
      ],
      "text/plain": [
       "          id   nm  scr_memo  scr_proj  scr_poll\n",
       "0  A0231887U   DH      15.0        30        15\n",
       "2  A0231887U   OB      11.2        27        14\n",
       "4  A3238467U  NUS      14.0        25         9"
      ]
     },
     "execution_count": 243,
     "metadata": {},
     "output_type": "execute_result"
    }
   ],
   "source": [
    "df[    df['scr_proj'] > 24    ] "
   ]
  },
  {
   "cell_type": "markdown",
   "id": "b34fb98a",
   "metadata": {},
   "source": [
    "#### practice"
   ]
  },
  {
   "cell_type": "code",
   "execution_count": 244,
   "id": "96ab1cd2",
   "metadata": {},
   "outputs": [
    {
     "data": {
      "text/html": [
       "<div>\n",
       "<style scoped>\n",
       "    .dataframe tbody tr th:only-of-type {\n",
       "        vertical-align: middle;\n",
       "    }\n",
       "\n",
       "    .dataframe tbody tr th {\n",
       "        vertical-align: top;\n",
       "    }\n",
       "\n",
       "    .dataframe thead th {\n",
       "        text-align: right;\n",
       "    }\n",
       "</style>\n",
       "<table border=\"1\" class=\"dataframe\">\n",
       "  <thead>\n",
       "    <tr style=\"text-align: right;\">\n",
       "      <th></th>\n",
       "      <th>id</th>\n",
       "      <th>nm</th>\n",
       "      <th>scr_memo</th>\n",
       "      <th>scr_proj</th>\n",
       "      <th>scr_poll</th>\n",
       "    </tr>\n",
       "  </thead>\n",
       "  <tbody>\n",
       "    <tr>\n",
       "      <th>0</th>\n",
       "      <td>A0231887U</td>\n",
       "      <td>DH</td>\n",
       "      <td>15.0</td>\n",
       "      <td>30</td>\n",
       "      <td>15</td>\n",
       "    </tr>\n",
       "    <tr>\n",
       "      <th>1</th>\n",
       "      <td>A0231887U</td>\n",
       "      <td>PA</td>\n",
       "      <td>12.0</td>\n",
       "      <td>22</td>\n",
       "      <td>11</td>\n",
       "    </tr>\n",
       "    <tr>\n",
       "      <th>2</th>\n",
       "      <td>A0231887U</td>\n",
       "      <td>OB</td>\n",
       "      <td>11.2</td>\n",
       "      <td>27</td>\n",
       "      <td>14</td>\n",
       "    </tr>\n",
       "    <tr>\n",
       "      <th>3</th>\n",
       "      <td>A6535897U</td>\n",
       "      <td>BMH</td>\n",
       "      <td>13.0</td>\n",
       "      <td>19</td>\n",
       "      <td>15</td>\n",
       "    </tr>\n",
       "    <tr>\n",
       "      <th>4</th>\n",
       "      <td>A3238467U</td>\n",
       "      <td>NUS</td>\n",
       "      <td>14.0</td>\n",
       "      <td>25</td>\n",
       "      <td>9</td>\n",
       "    </tr>\n",
       "  </tbody>\n",
       "</table>\n",
       "</div>"
      ],
      "text/plain": [
       "          id   nm  scr_memo  scr_proj  scr_poll\n",
       "0  A0231887U   DH      15.0        30        15\n",
       "1  A0231887U   PA      12.0        22        11\n",
       "2  A0231887U   OB      11.2        27        14\n",
       "3  A6535897U  BMH      13.0        19        15\n",
       "4  A3238467U  NUS      14.0        25         9"
      ]
     },
     "execution_count": 244,
     "metadata": {},
     "output_type": "execute_result"
    }
   ],
   "source": [
    "df"
   ]
  },
  {
   "cell_type": "markdown",
   "id": "d32dea6f",
   "metadata": {},
   "source": [
    "I want to filter the students who got the poll score lower than 10"
   ]
  },
  {
   "cell_type": "code",
   "execution_count": 245,
   "id": "1e7fcf7a",
   "metadata": {},
   "outputs": [
    {
     "data": {
      "text/plain": [
       "0    15\n",
       "1    11\n",
       "2    14\n",
       "3    15\n",
       "4     9\n",
       "Name: scr_poll, dtype: int64"
      ]
     },
     "execution_count": 245,
     "metadata": {},
     "output_type": "execute_result"
    }
   ],
   "source": [
    "df['scr_poll']"
   ]
  },
  {
   "cell_type": "code",
   "execution_count": 246,
   "id": "9414ebc6",
   "metadata": {},
   "outputs": [
    {
     "data": {
      "text/plain": [
       "0    False\n",
       "1    False\n",
       "2    False\n",
       "3    False\n",
       "4     True\n",
       "Name: scr_poll, dtype: bool"
      ]
     },
     "execution_count": 246,
     "metadata": {},
     "output_type": "execute_result"
    }
   ],
   "source": [
    "df['scr_poll'] < 10"
   ]
  },
  {
   "cell_type": "code",
   "execution_count": 247,
   "id": "a2d1b3e3",
   "metadata": {},
   "outputs": [
    {
     "data": {
      "text/html": [
       "<div>\n",
       "<style scoped>\n",
       "    .dataframe tbody tr th:only-of-type {\n",
       "        vertical-align: middle;\n",
       "    }\n",
       "\n",
       "    .dataframe tbody tr th {\n",
       "        vertical-align: top;\n",
       "    }\n",
       "\n",
       "    .dataframe thead th {\n",
       "        text-align: right;\n",
       "    }\n",
       "</style>\n",
       "<table border=\"1\" class=\"dataframe\">\n",
       "  <thead>\n",
       "    <tr style=\"text-align: right;\">\n",
       "      <th></th>\n",
       "      <th>id</th>\n",
       "      <th>nm</th>\n",
       "      <th>scr_memo</th>\n",
       "      <th>scr_proj</th>\n",
       "      <th>scr_poll</th>\n",
       "    </tr>\n",
       "  </thead>\n",
       "  <tbody>\n",
       "    <tr>\n",
       "      <th>4</th>\n",
       "      <td>A3238467U</td>\n",
       "      <td>NUS</td>\n",
       "      <td>14.0</td>\n",
       "      <td>25</td>\n",
       "      <td>9</td>\n",
       "    </tr>\n",
       "  </tbody>\n",
       "</table>\n",
       "</div>"
      ],
      "text/plain": [
       "          id   nm  scr_memo  scr_proj  scr_poll\n",
       "4  A3238467U  NUS      14.0        25         9"
      ]
     },
     "execution_count": 247,
     "metadata": {},
     "output_type": "execute_result"
    }
   ],
   "source": [
    "df[  df['scr_poll'] < 10   ]"
   ]
  },
  {
   "cell_type": "markdown",
   "id": "d160f3fd",
   "metadata": {},
   "source": [
    "#### more than 1 condition\n",
    " - I want to filter the students who got the poll score lower than 10\n",
    " - I want to filter the students who got the score over 24"
   ]
  },
  {
   "cell_type": "code",
   "execution_count": 248,
   "id": "836d5b68",
   "metadata": {},
   "outputs": [
    {
     "data": {
      "text/plain": [
       "0    False\n",
       "1    False\n",
       "2    False\n",
       "3    False\n",
       "4     True\n",
       "Name: scr_poll, dtype: bool"
      ]
     },
     "execution_count": 248,
     "metadata": {},
     "output_type": "execute_result"
    }
   ],
   "source": [
    "df['scr_poll'] < 10"
   ]
  },
  {
   "cell_type": "code",
   "execution_count": 249,
   "id": "a2c775f1",
   "metadata": {},
   "outputs": [
    {
     "data": {
      "text/plain": [
       "0     True\n",
       "1    False\n",
       "2     True\n",
       "3    False\n",
       "4     True\n",
       "Name: scr_proj, dtype: bool"
      ]
     },
     "execution_count": 249,
     "metadata": {},
     "output_type": "execute_result"
    }
   ],
   "source": [
    "df['scr_proj'] > 24"
   ]
  },
  {
   "cell_type": "code",
   "execution_count": 250,
   "id": "3e9f5cca",
   "metadata": {},
   "outputs": [
    {
     "data": {
      "text/plain": [
       "0    False\n",
       "1    False\n",
       "2    False\n",
       "3    False\n",
       "4     True\n",
       "dtype: bool"
      ]
     },
     "execution_count": 250,
     "metadata": {},
     "output_type": "execute_result"
    }
   ],
   "source": [
    "(df['scr_poll'] < 10) & (df['scr_proj'] > 24)    # flag series"
   ]
  },
  {
   "cell_type": "code",
   "execution_count": 251,
   "id": "4bbae1a8",
   "metadata": {
    "scrolled": true
   },
   "outputs": [
    {
     "data": {
      "text/html": [
       "<div>\n",
       "<style scoped>\n",
       "    .dataframe tbody tr th:only-of-type {\n",
       "        vertical-align: middle;\n",
       "    }\n",
       "\n",
       "    .dataframe tbody tr th {\n",
       "        vertical-align: top;\n",
       "    }\n",
       "\n",
       "    .dataframe thead th {\n",
       "        text-align: right;\n",
       "    }\n",
       "</style>\n",
       "<table border=\"1\" class=\"dataframe\">\n",
       "  <thead>\n",
       "    <tr style=\"text-align: right;\">\n",
       "      <th></th>\n",
       "      <th>id</th>\n",
       "      <th>nm</th>\n",
       "      <th>scr_memo</th>\n",
       "      <th>scr_proj</th>\n",
       "      <th>scr_poll</th>\n",
       "    </tr>\n",
       "  </thead>\n",
       "  <tbody>\n",
       "    <tr>\n",
       "      <th>4</th>\n",
       "      <td>A3238467U</td>\n",
       "      <td>NUS</td>\n",
       "      <td>14.0</td>\n",
       "      <td>25</td>\n",
       "      <td>9</td>\n",
       "    </tr>\n",
       "  </tbody>\n",
       "</table>\n",
       "</div>"
      ],
      "text/plain": [
       "          id   nm  scr_memo  scr_proj  scr_poll\n",
       "4  A3238467U  NUS      14.0        25         9"
      ]
     },
     "execution_count": 251,
     "metadata": {},
     "output_type": "execute_result"
    }
   ],
   "source": [
    "df[ (df['scr_poll'] < 10) & (df['scr_proj'] > 24)   ]"
   ]
  },
  {
   "cell_type": "markdown",
   "id": "17292aaa",
   "metadata": {},
   "source": [
    "#### #### *by. Donghwan Kim at National University of Singapore / Session for MSc. in HCMA students / Mar.2022 (E.O.D.)*"
   ]
  }
 ],
 "metadata": {
  "kernelspec": {
   "display_name": "Python 3 (ipykernel)",
   "language": "python",
   "name": "python3"
  },
  "language_info": {
   "codemirror_mode": {
    "name": "ipython",
    "version": 3
   },
   "file_extension": ".py",
   "mimetype": "text/x-python",
   "name": "python",
   "nbconvert_exporter": "python",
   "pygments_lexer": "ipython3",
   "version": "3.8.2"
  }
 },
 "nbformat": 4,
 "nbformat_minor": 5
}
