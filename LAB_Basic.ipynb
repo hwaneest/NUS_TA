{
 "cells": [
  {
   "cell_type": "code",
   "execution_count": 4,
   "id": "0f1f73f7",
   "metadata": {
    "scrolled": true
   },
   "outputs": [
    {
     "data": {
      "text/html": [
       "<style>.container { width:97% !important; }</style>"
      ],
      "text/plain": [
       "<IPython.core.display.HTML object>"
      ]
     },
     "metadata": {},
     "output_type": "display_data"
    }
   ],
   "source": [
    "from IPython.core.display import display, HTML\n",
    "display(HTML(\"<style>.container { width:97% !important; }</style>\"))"
   ]
  },
  {
   "cell_type": "markdown",
   "id": "ac2d1ed3",
   "metadata": {},
   "source": [
    "# # Session Overview\n",
    "#### This session is for\n",
    " - Who is new to python programming\n",
    " - Who wants to know more about python basic\n",
    " - Who has some difficulties in reading/interpreting the python codes\n",
    " - Who is eager to learn and do python programming when analyze people issues\n",
    " \n",
    "#### Objective\n",
    " - Get basic python functionings used in the provided codes\n",
    " - Understand the flow of the code based on python foundations\n",
    " - Get how to study python later on according to individual need"
   ]
  },
  {
   "cell_type": "markdown",
   "id": "3086fb75",
   "metadata": {},
   "source": [
    "<hr>"
   ]
  },
  {
   "cell_type": "markdown",
   "id": "07d65ff2",
   "metadata": {},
   "source": [
    "# [Contents]\n",
    " - Variable Assignment\n",
    " - List\n",
    " - Function \n",
    " - Method\n",
    " - Package Usage"
   ]
  },
  {
   "cell_type": "markdown",
   "id": "230ef703",
   "metadata": {},
   "source": [
    "# # Variable Assignment"
   ]
  },
  {
   "cell_type": "code",
   "execution_count": 5,
   "id": "a27f76a9",
   "metadata": {},
   "outputs": [
    {
     "data": {
      "text/plain": [
       "3"
      ]
     },
     "execution_count": 5,
     "metadata": {},
     "output_type": "execute_result"
    }
   ],
   "source": [
    "3"
   ]
  },
  {
   "cell_type": "code",
   "execution_count": 6,
   "id": "763f8aa0",
   "metadata": {},
   "outputs": [
    {
     "data": {
      "text/plain": [
       "5"
      ]
     },
     "execution_count": 6,
     "metadata": {},
     "output_type": "execute_result"
    }
   ],
   "source": [
    "5"
   ]
  },
  {
   "cell_type": "code",
   "execution_count": 7,
   "id": "b7f0c33e",
   "metadata": {},
   "outputs": [],
   "source": [
    "a = 3"
   ]
  },
  {
   "cell_type": "code",
   "execution_count": 8,
   "id": "3c79fe5e",
   "metadata": {},
   "outputs": [
    {
     "data": {
      "text/plain": [
       "3"
      ]
     },
     "execution_count": 8,
     "metadata": {},
     "output_type": "execute_result"
    }
   ],
   "source": [
    "a   # variable"
   ]
  },
  {
   "cell_type": "code",
   "execution_count": 9,
   "id": "dbf2dcf2",
   "metadata": {},
   "outputs": [],
   "source": [
    "b = 5"
   ]
  },
  {
   "cell_type": "code",
   "execution_count": 10,
   "id": "a20b23dc",
   "metadata": {},
   "outputs": [
    {
     "data": {
      "text/plain": [
       "5"
      ]
     },
     "execution_count": 10,
     "metadata": {},
     "output_type": "execute_result"
    }
   ],
   "source": [
    "b   # variable"
   ]
  },
  {
   "cell_type": "code",
   "execution_count": 11,
   "id": "7bae192b",
   "metadata": {},
   "outputs": [
    {
     "data": {
      "text/plain": [
       "8"
      ]
     },
     "execution_count": 11,
     "metadata": {},
     "output_type": "execute_result"
    }
   ],
   "source": [
    "a + b"
   ]
  },
  {
   "cell_type": "code",
   "execution_count": 12,
   "id": "02fc4581",
   "metadata": {},
   "outputs": [],
   "source": [
    "sum_value = a + b"
   ]
  },
  {
   "cell_type": "code",
   "execution_count": 13,
   "id": "f1388a6b",
   "metadata": {},
   "outputs": [
    {
     "data": {
      "text/plain": [
       "8"
      ]
     },
     "execution_count": 13,
     "metadata": {},
     "output_type": "execute_result"
    }
   ],
   "source": [
    "sum_value   # variable"
   ]
  },
  {
   "cell_type": "code",
   "execution_count": 14,
   "id": "140d6dca",
   "metadata": {},
   "outputs": [],
   "source": [
    "a = 4"
   ]
  },
  {
   "cell_type": "code",
   "execution_count": 15,
   "id": "b1042ece",
   "metadata": {},
   "outputs": [
    {
     "data": {
      "text/plain": [
       "4"
      ]
     },
     "execution_count": 15,
     "metadata": {},
     "output_type": "execute_result"
    }
   ],
   "source": [
    "a"
   ]
  },
  {
   "cell_type": "code",
   "execution_count": 16,
   "id": "dcbd0dff",
   "metadata": {},
   "outputs": [
    {
     "data": {
      "text/plain": [
       "5"
      ]
     },
     "execution_count": 16,
     "metadata": {},
     "output_type": "execute_result"
    }
   ],
   "source": [
    "b"
   ]
  },
  {
   "cell_type": "code",
   "execution_count": 17,
   "id": "3cc7a338",
   "metadata": {},
   "outputs": [
    {
     "data": {
      "text/plain": [
       "9"
      ]
     },
     "execution_count": 17,
     "metadata": {},
     "output_type": "execute_result"
    }
   ],
   "source": [
    "a + b"
   ]
  },
  {
   "cell_type": "code",
   "execution_count": 18,
   "id": "b2aa4862",
   "metadata": {},
   "outputs": [],
   "source": [
    "new_sum_value = a + b"
   ]
  },
  {
   "cell_type": "code",
   "execution_count": 19,
   "id": "8d88cddc",
   "metadata": {},
   "outputs": [
    {
     "data": {
      "text/plain": [
       "9"
      ]
     },
     "execution_count": 19,
     "metadata": {},
     "output_type": "execute_result"
    }
   ],
   "source": [
    "new_sum_value"
   ]
  },
  {
   "cell_type": "markdown",
   "id": "676335b3",
   "metadata": {},
   "source": [
    "#### Re-assignment\n",
    " - ex) summation: 1 ~ 10 "
   ]
  },
  {
   "cell_type": "code",
   "execution_count": 20,
   "id": "3f939161",
   "metadata": {},
   "outputs": [],
   "source": [
    "result = 0"
   ]
  },
  {
   "cell_type": "code",
   "execution_count": 21,
   "id": "49a1c246",
   "metadata": {},
   "outputs": [],
   "source": [
    "result = result + 1"
   ]
  },
  {
   "cell_type": "code",
   "execution_count": 22,
   "id": "25685dc2",
   "metadata": {},
   "outputs": [
    {
     "data": {
      "text/plain": [
       "1"
      ]
     },
     "execution_count": 22,
     "metadata": {},
     "output_type": "execute_result"
    }
   ],
   "source": [
    "result"
   ]
  },
  {
   "cell_type": "code",
   "execution_count": 23,
   "id": "9fcdb49e",
   "metadata": {},
   "outputs": [],
   "source": [
    "result = result + 2"
   ]
  },
  {
   "cell_type": "code",
   "execution_count": 24,
   "id": "3a6d2d6d",
   "metadata": {},
   "outputs": [
    {
     "data": {
      "text/plain": [
       "3"
      ]
     },
     "execution_count": 24,
     "metadata": {},
     "output_type": "execute_result"
    }
   ],
   "source": [
    "result"
   ]
  },
  {
   "cell_type": "code",
   "execution_count": 25,
   "id": "6368ba85",
   "metadata": {},
   "outputs": [],
   "source": [
    "result = result + 3"
   ]
  },
  {
   "cell_type": "code",
   "execution_count": 26,
   "id": "4e2fa1b7",
   "metadata": {},
   "outputs": [
    {
     "data": {
      "text/plain": [
       "6"
      ]
     },
     "execution_count": 26,
     "metadata": {},
     "output_type": "execute_result"
    }
   ],
   "source": [
    "result"
   ]
  },
  {
   "cell_type": "markdown",
   "id": "f3ec39e5",
   "metadata": {},
   "source": [
    "#### using for loop "
   ]
  },
  {
   "cell_type": "code",
   "execution_count": 27,
   "id": "3eac5137",
   "metadata": {},
   "outputs": [],
   "source": [
    "result = 0\n",
    "for i in range(1,11):\n",
    "    result = result + i"
   ]
  },
  {
   "cell_type": "code",
   "execution_count": 28,
   "id": "72331995",
   "metadata": {},
   "outputs": [
    {
     "data": {
      "text/plain": [
       "55"
      ]
     },
     "execution_count": 28,
     "metadata": {},
     "output_type": "execute_result"
    }
   ],
   "source": [
    "result"
   ]
  },
  {
   "cell_type": "markdown",
   "id": "eed8edd2",
   "metadata": {},
   "source": [
    "#### operator\n",
    " - ex) add 3 for many times"
   ]
  },
  {
   "cell_type": "code",
   "execution_count": 29,
   "id": "591d0815",
   "metadata": {},
   "outputs": [],
   "source": [
    "final_value = 0"
   ]
  },
  {
   "cell_type": "code",
   "execution_count": 30,
   "id": "295d7120",
   "metadata": {},
   "outputs": [],
   "source": [
    "final_value = final_value + 3"
   ]
  },
  {
   "cell_type": "code",
   "execution_count": 31,
   "id": "7c9dcf43",
   "metadata": {},
   "outputs": [
    {
     "data": {
      "text/plain": [
       "3"
      ]
     },
     "execution_count": 31,
     "metadata": {},
     "output_type": "execute_result"
    }
   ],
   "source": [
    "final_value"
   ]
  },
  {
   "cell_type": "code",
   "execution_count": 32,
   "id": "0dca68bb",
   "metadata": {},
   "outputs": [],
   "source": [
    "final_value = final_value + 3"
   ]
  },
  {
   "cell_type": "code",
   "execution_count": 33,
   "id": "ee1ef737",
   "metadata": {},
   "outputs": [
    {
     "data": {
      "text/plain": [
       "6"
      ]
     },
     "execution_count": 33,
     "metadata": {},
     "output_type": "execute_result"
    }
   ],
   "source": [
    "final_value"
   ]
  },
  {
   "cell_type": "code",
   "execution_count": 34,
   "id": "4c421b33",
   "metadata": {},
   "outputs": [],
   "source": [
    "final_value = final_value + 3"
   ]
  },
  {
   "cell_type": "code",
   "execution_count": 35,
   "id": "636c04e8",
   "metadata": {},
   "outputs": [
    {
     "data": {
      "text/plain": [
       "9"
      ]
     },
     "execution_count": 35,
     "metadata": {},
     "output_type": "execute_result"
    }
   ],
   "source": [
    "final_value"
   ]
  },
  {
   "cell_type": "code",
   "execution_count": 36,
   "id": "198abd55",
   "metadata": {},
   "outputs": [],
   "source": [
    "final_value += 3"
   ]
  },
  {
   "cell_type": "code",
   "execution_count": 37,
   "id": "d69b9cad",
   "metadata": {},
   "outputs": [
    {
     "data": {
      "text/plain": [
       "12"
      ]
     },
     "execution_count": 37,
     "metadata": {},
     "output_type": "execute_result"
    }
   ],
   "source": [
    "final_value"
   ]
  },
  {
   "cell_type": "code",
   "execution_count": 38,
   "id": "a7e37628",
   "metadata": {},
   "outputs": [],
   "source": [
    "final_value += 3"
   ]
  },
  {
   "cell_type": "code",
   "execution_count": 39,
   "id": "a6243714",
   "metadata": {},
   "outputs": [
    {
     "data": {
      "text/plain": [
       "15"
      ]
     },
     "execution_count": 39,
     "metadata": {},
     "output_type": "execute_result"
    }
   ],
   "source": [
    "final_value"
   ]
  },
  {
   "cell_type": "markdown",
   "id": "3210b196",
   "metadata": {},
   "source": [
    "#### plus alpha"
   ]
  },
  {
   "cell_type": "code",
   "execution_count": 40,
   "id": "5f709115",
   "metadata": {},
   "outputs": [],
   "source": [
    "a = 10"
   ]
  },
  {
   "cell_type": "code",
   "execution_count": 41,
   "id": "822e92cb",
   "metadata": {},
   "outputs": [
    {
     "data": {
      "text/plain": [
       "10"
      ]
     },
     "execution_count": 41,
     "metadata": {},
     "output_type": "execute_result"
    }
   ],
   "source": [
    "a"
   ]
  },
  {
   "cell_type": "code",
   "execution_count": 42,
   "id": "3a028067",
   "metadata": {},
   "outputs": [],
   "source": [
    "a -= 2"
   ]
  },
  {
   "cell_type": "code",
   "execution_count": 43,
   "id": "31adb928",
   "metadata": {},
   "outputs": [
    {
     "data": {
      "text/plain": [
       "8"
      ]
     },
     "execution_count": 43,
     "metadata": {},
     "output_type": "execute_result"
    }
   ],
   "source": [
    "a"
   ]
  },
  {
   "cell_type": "code",
   "execution_count": 44,
   "id": "b67a733f",
   "metadata": {},
   "outputs": [],
   "source": [
    "a *= 3"
   ]
  },
  {
   "cell_type": "code",
   "execution_count": 45,
   "id": "d0ceaebf",
   "metadata": {},
   "outputs": [
    {
     "data": {
      "text/plain": [
       "24"
      ]
     },
     "execution_count": 45,
     "metadata": {},
     "output_type": "execute_result"
    }
   ],
   "source": [
    "a"
   ]
  },
  {
   "cell_type": "code",
   "execution_count": 46,
   "id": "b457e993",
   "metadata": {},
   "outputs": [],
   "source": [
    "a /= 4"
   ]
  },
  {
   "cell_type": "code",
   "execution_count": 47,
   "id": "2bf5fca0",
   "metadata": {},
   "outputs": [
    {
     "data": {
      "text/plain": [
       "6.0"
      ]
     },
     "execution_count": 47,
     "metadata": {},
     "output_type": "execute_result"
    }
   ],
   "source": [
    "a"
   ]
  },
  {
   "cell_type": "markdown",
   "id": "4f0aa132",
   "metadata": {},
   "source": [
    "#### assign multiple values at one time"
   ]
  },
  {
   "cell_type": "code",
   "execution_count": 48,
   "id": "0faed485",
   "metadata": {},
   "outputs": [],
   "source": [
    "a = 3"
   ]
  },
  {
   "cell_type": "code",
   "execution_count": 49,
   "id": "13bffe05",
   "metadata": {},
   "outputs": [
    {
     "data": {
      "text/plain": [
       "3"
      ]
     },
     "execution_count": 49,
     "metadata": {},
     "output_type": "execute_result"
    }
   ],
   "source": [
    "a"
   ]
  },
  {
   "cell_type": "code",
   "execution_count": 50,
   "id": "bc85a0b7",
   "metadata": {},
   "outputs": [],
   "source": [
    "b = 4"
   ]
  },
  {
   "cell_type": "code",
   "execution_count": 51,
   "id": "eb741008",
   "metadata": {},
   "outputs": [
    {
     "data": {
      "text/plain": [
       "4"
      ]
     },
     "execution_count": 51,
     "metadata": {},
     "output_type": "execute_result"
    }
   ],
   "source": [
    "b"
   ]
  },
  {
   "cell_type": "code",
   "execution_count": 52,
   "id": "bb07d49a",
   "metadata": {},
   "outputs": [],
   "source": [
    "a, b = 3, 4"
   ]
  },
  {
   "cell_type": "code",
   "execution_count": 53,
   "id": "5a9d0b23",
   "metadata": {},
   "outputs": [
    {
     "data": {
      "text/plain": [
       "3"
      ]
     },
     "execution_count": 53,
     "metadata": {},
     "output_type": "execute_result"
    }
   ],
   "source": [
    "a"
   ]
  },
  {
   "cell_type": "code",
   "execution_count": 54,
   "id": "b98c17ea",
   "metadata": {},
   "outputs": [
    {
     "data": {
      "text/plain": [
       "4"
      ]
     },
     "execution_count": 54,
     "metadata": {},
     "output_type": "execute_result"
    }
   ],
   "source": [
    "b"
   ]
  },
  {
   "cell_type": "code",
   "execution_count": 55,
   "id": "9065bc21",
   "metadata": {},
   "outputs": [],
   "source": [
    "c, d = 5, 6"
   ]
  },
  {
   "cell_type": "code",
   "execution_count": 56,
   "id": "baa954dd",
   "metadata": {},
   "outputs": [
    {
     "data": {
      "text/plain": [
       "5"
      ]
     },
     "execution_count": 56,
     "metadata": {},
     "output_type": "execute_result"
    }
   ],
   "source": [
    "c"
   ]
  },
  {
   "cell_type": "code",
   "execution_count": 57,
   "id": "004c0b53",
   "metadata": {},
   "outputs": [
    {
     "data": {
      "text/plain": [
       "6"
      ]
     },
     "execution_count": 57,
     "metadata": {},
     "output_type": "execute_result"
    }
   ],
   "source": [
    "d"
   ]
  },
  {
   "cell_type": "code",
   "execution_count": 58,
   "id": "5b87a6d9",
   "metadata": {},
   "outputs": [],
   "source": [
    "e, f, g, h = 7, 8, 9, 10"
   ]
  },
  {
   "cell_type": "code",
   "execution_count": 59,
   "id": "f3ff833e",
   "metadata": {},
   "outputs": [
    {
     "data": {
      "text/plain": [
       "7"
      ]
     },
     "execution_count": 59,
     "metadata": {},
     "output_type": "execute_result"
    }
   ],
   "source": [
    "e"
   ]
  },
  {
   "cell_type": "code",
   "execution_count": 60,
   "id": "ca8bb82c",
   "metadata": {},
   "outputs": [
    {
     "data": {
      "text/plain": [
       "8"
      ]
     },
     "execution_count": 60,
     "metadata": {},
     "output_type": "execute_result"
    }
   ],
   "source": [
    "f"
   ]
  },
  {
   "cell_type": "code",
   "execution_count": 61,
   "id": "5af3c709",
   "metadata": {},
   "outputs": [
    {
     "data": {
      "text/plain": [
       "9"
      ]
     },
     "execution_count": 61,
     "metadata": {},
     "output_type": "execute_result"
    }
   ],
   "source": [
    "g"
   ]
  },
  {
   "cell_type": "code",
   "execution_count": 62,
   "id": "c6f5757a",
   "metadata": {},
   "outputs": [
    {
     "data": {
      "text/plain": [
       "10"
      ]
     },
     "execution_count": 62,
     "metadata": {},
     "output_type": "execute_result"
    }
   ],
   "source": [
    "h"
   ]
  },
  {
   "cell_type": "markdown",
   "id": "33bd6333",
   "metadata": {},
   "source": [
    "# # List\n",
    " - Most important and frequently used data type\n",
    " - one kind of sequence data type\n",
    "   - Sequence Data Type: List, Tuple, String, etc.\n",
    " - '[  ]' >> a square bracket\n",
    " - We will learn another important concept **<span style='color:red'>'indexing'** and **<span style='color:red'>'slicing'** using the list data type object."
   ]
  },
  {
   "cell_type": "markdown",
   "id": "f26154f8",
   "metadata": {},
   "source": [
    "#### list example"
   ]
  },
  {
   "cell_type": "code",
   "execution_count": 63,
   "id": "b7aa6b05",
   "metadata": {},
   "outputs": [
    {
     "data": {
      "text/plain": [
       "['China', 'USA', 'South_Korea', 'Singapore']"
      ]
     },
     "execution_count": 63,
     "metadata": {},
     "output_type": "execute_result"
    }
   ],
   "source": [
    "li = ['China', 'USA', 'South_Korea', 'Singapore']   # population desc...\n",
    "li"
   ]
  },
  {
   "cell_type": "markdown",
   "id": "2b29f7ba",
   "metadata": {},
   "source": [
    "#### Indexing\n",
    " - <span style='color:red'>**starts from 0, not from 1**</span>\n",
    " - to get one value we want\n",
    " - we can use 'square bracket' to index list"
   ]
  },
  {
   "cell_type": "code",
   "execution_count": 64,
   "id": "625fd01c",
   "metadata": {},
   "outputs": [
    {
     "data": {
      "text/plain": [
       "'China'"
      ]
     },
     "execution_count": 64,
     "metadata": {},
     "output_type": "execute_result"
    }
   ],
   "source": [
    "li[0]"
   ]
  },
  {
   "cell_type": "code",
   "execution_count": 65,
   "id": "8457fc4c",
   "metadata": {},
   "outputs": [
    {
     "data": {
      "text/plain": [
       "'USA'"
      ]
     },
     "execution_count": 65,
     "metadata": {},
     "output_type": "execute_result"
    }
   ],
   "source": [
    "li[1]"
   ]
  },
  {
   "cell_type": "code",
   "execution_count": 66,
   "id": "ff4a9885",
   "metadata": {},
   "outputs": [
    {
     "data": {
      "text/plain": [
       "'South_Korea'"
      ]
     },
     "execution_count": 66,
     "metadata": {},
     "output_type": "execute_result"
    }
   ],
   "source": [
    "li[2]"
   ]
  },
  {
   "cell_type": "code",
   "execution_count": 67,
   "id": "c40fdf73",
   "metadata": {},
   "outputs": [
    {
     "data": {
      "text/plain": [
       "'Singapore'"
      ]
     },
     "execution_count": 67,
     "metadata": {},
     "output_type": "execute_result"
    }
   ],
   "source": [
    "li[3]"
   ]
  },
  {
   "cell_type": "code",
   "execution_count": 68,
   "id": "d6e2e4f2",
   "metadata": {},
   "outputs": [],
   "source": [
    "# li[4]   # Error"
   ]
  },
  {
   "cell_type": "markdown",
   "id": "d35d9b14",
   "metadata": {},
   "source": [
    "#### Slicing\n",
    " - <span style='color:red'>**starts from 0, not from 1**</span>\n",
    " - to get values partially from the object\n",
    " - we can use 'square bracket' and 'colon symbol' to slice the list object"
   ]
  },
  {
   "cell_type": "code",
   "execution_count": 69,
   "id": "78807012",
   "metadata": {},
   "outputs": [
    {
     "data": {
      "text/plain": [
       "['China', 'USA', 'South_Korea', 'Singapore']"
      ]
     },
     "execution_count": 69,
     "metadata": {},
     "output_type": "execute_result"
    }
   ],
   "source": [
    "li   # index: 0, 1, 2, 3"
   ]
  },
  {
   "cell_type": "code",
   "execution_count": 70,
   "id": "1d1bac13",
   "metadata": {},
   "outputs": [
    {
     "data": {
      "text/plain": [
       "['China', 'USA', 'South_Korea']"
      ]
     },
     "execution_count": 70,
     "metadata": {},
     "output_type": "execute_result"
    }
   ],
   "source": [
    "li[0:3]   # slice values with index 0, 1, and 2    # not up to index '3'"
   ]
  },
  {
   "cell_type": "code",
   "execution_count": 71,
   "id": "c5c6cb80",
   "metadata": {},
   "outputs": [
    {
     "data": {
      "text/plain": [
       "['China', 'USA']"
      ]
     },
     "execution_count": 71,
     "metadata": {},
     "output_type": "execute_result"
    }
   ],
   "source": [
    "li[0:2]   # slice values with index 0 and 1"
   ]
  },
  {
   "cell_type": "code",
   "execution_count": 72,
   "id": "be19016b",
   "metadata": {},
   "outputs": [
    {
     "data": {
      "text/plain": [
       "['USA', 'South_Korea', 'Singapore']"
      ]
     },
     "execution_count": 72,
     "metadata": {},
     "output_type": "execute_result"
    }
   ],
   "source": [
    "li[1:4]   # slice values with index 1, 2, and 3"
   ]
  },
  {
   "cell_type": "code",
   "execution_count": 73,
   "id": "70934c32",
   "metadata": {},
   "outputs": [
    {
     "data": {
      "text/plain": [
       "['South_Korea', 'Singapore']"
      ]
     },
     "execution_count": 73,
     "metadata": {},
     "output_type": "execute_result"
    }
   ],
   "source": [
    "li[2:]    # from 2 index to 'the last element'"
   ]
  },
  {
   "cell_type": "code",
   "execution_count": 74,
   "id": "9aec846f",
   "metadata": {},
   "outputs": [
    {
     "data": {
      "text/plain": [
       "['USA', 'South_Korea', 'Singapore']"
      ]
     },
     "execution_count": 74,
     "metadata": {},
     "output_type": "execute_result"
    }
   ],
   "source": [
    "li[1:]   # from 1 index to 'the last element'"
   ]
  },
  {
   "cell_type": "code",
   "execution_count": 75,
   "id": "0db824b8",
   "metadata": {},
   "outputs": [
    {
     "data": {
      "text/plain": [
       "['China', 'USA']"
      ]
     },
     "execution_count": 75,
     "metadata": {},
     "output_type": "execute_result"
    }
   ],
   "source": [
    "li[:2]   # from 'the first element' to 2 index"
   ]
  },
  {
   "cell_type": "code",
   "execution_count": 76,
   "id": "2db91349",
   "metadata": {},
   "outputs": [
    {
     "data": {
      "text/plain": [
       "['China', 'USA', 'South_Korea']"
      ]
     },
     "execution_count": 76,
     "metadata": {},
     "output_type": "execute_result"
    }
   ],
   "source": [
    "li[:3]   # from 'the first element' to 3 index"
   ]
  },
  {
   "cell_type": "code",
   "execution_count": 77,
   "id": "50b97711",
   "metadata": {},
   "outputs": [
    {
     "data": {
      "text/plain": [
       "['China', 'USA', 'South_Korea', 'Singapore']"
      ]
     },
     "execution_count": 77,
     "metadata": {},
     "output_type": "execute_result"
    }
   ],
   "source": [
    "li[:]   # from 'the first element' to 'the last element'"
   ]
  },
  {
   "cell_type": "markdown",
   "id": "97c1b2bb",
   "metadata": {},
   "source": [
    "#### Intermediate\n",
    " - list comprehension\n",
    "   - Needs: better productivity & code more concisely"
   ]
  },
  {
   "cell_type": "code",
   "execution_count": 78,
   "id": "f459dcaf",
   "metadata": {},
   "outputs": [
    {
     "name": "stdout",
     "output_type": "stream",
     "text": [
      "1  2  3  4  5  6  7  8  9  "
     ]
    }
   ],
   "source": [
    "for i in range(1,10):\n",
    "    print(i, end= '  ')"
   ]
  },
  {
   "cell_type": "code",
   "execution_count": 79,
   "id": "4d880f92",
   "metadata": {},
   "outputs": [],
   "source": [
    "li = []\n",
    "for num in range(10):\n",
    "    li.append(num)"
   ]
  },
  {
   "cell_type": "code",
   "execution_count": 80,
   "id": "88b02210",
   "metadata": {},
   "outputs": [
    {
     "data": {
      "text/plain": [
       "[0, 1, 2, 3, 4, 5, 6, 7, 8, 9]"
      ]
     },
     "execution_count": 80,
     "metadata": {},
     "output_type": "execute_result"
    }
   ],
   "source": [
    "li"
   ]
  },
  {
   "cell_type": "code",
   "execution_count": 81,
   "id": "536e0662",
   "metadata": {},
   "outputs": [
    {
     "data": {
      "text/plain": [
       "[0, 1, 2, 3, 4, 5, 6, 7, 8, 9]"
      ]
     },
     "execution_count": 81,
     "metadata": {},
     "output_type": "execute_result"
    }
   ],
   "source": [
    "[num for num in range(10)]   # list comprehension"
   ]
  },
  {
   "cell_type": "code",
   "execution_count": 82,
   "id": "425fc800",
   "metadata": {},
   "outputs": [
    {
     "data": {
      "text/plain": [
       "[[1, 4, 9], [16, 25, 36], [49, 64, 81]]"
      ]
     },
     "execution_count": 82,
     "metadata": {},
     "output_type": "execute_result"
    }
   ],
   "source": [
    "li_final = []\n",
    "for num_li in [[1,2,3], [4,5,6], [7,8,9]]:\n",
    "    li = []\n",
    "    for x in num_li:\n",
    "        li.append(x**2)\n",
    "    li_final.append(li)\n",
    "        \n",
    "li_final"
   ]
  },
  {
   "cell_type": "code",
   "execution_count": 83,
   "id": "197d7e6d",
   "metadata": {},
   "outputs": [
    {
     "data": {
      "text/plain": [
       "[[1, 4, 9], [16, 25, 36], [49, 64, 81]]"
      ]
     },
     "execution_count": 83,
     "metadata": {},
     "output_type": "execute_result"
    }
   ],
   "source": [
    "[[x**2 for x in num] for num in [[1,2,3], [4,5,6], [7,8,9]]]   # nested comprehension"
   ]
  },
  {
   "cell_type": "markdown",
   "id": "19623a3a",
   "metadata": {},
   "source": [
    "##### >> Later, we will see how we can index and slice the DataFrame."
   ]
  },
  {
   "cell_type": "markdown",
   "id": "1def554e",
   "metadata": {},
   "source": [
    "# # Function"
   ]
  },
  {
   "cell_type": "markdown",
   "id": "c9d3fc52",
   "metadata": {},
   "source": [
    " - word with parentheses: '( )'\n",
    " - Input & Output     \n",
    "     - input value: yes or no\n",
    "     - output value: yes or no\n",
    "     - Usually, \n",
    "       - input value: yes\n",
    "       - output value: yes\n",
    " - attribute"
   ]
  },
  {
   "cell_type": "markdown",
   "id": "1a0d3eba",
   "metadata": {},
   "source": [
    "#### ( ) & Input/Output"
   ]
  },
  {
   "cell_type": "code",
   "execution_count": 84,
   "id": "30f58395",
   "metadata": {},
   "outputs": [
    {
     "name": "stdout",
     "output_type": "stream",
     "text": [
      "3\n"
     ]
    }
   ],
   "source": [
    "print(3)"
   ]
  },
  {
   "cell_type": "code",
   "execution_count": 85,
   "id": "3cc4d8f5",
   "metadata": {},
   "outputs": [
    {
     "name": "stdout",
     "output_type": "stream",
     "text": [
      "hi\n"
     ]
    }
   ],
   "source": [
    "print('hi')"
   ]
  },
  {
   "cell_type": "code",
   "execution_count": 86,
   "id": "b5a97ed9",
   "metadata": {
    "scrolled": true
   },
   "outputs": [
    {
     "data": {
      "text/plain": [
       "15"
      ]
     },
     "execution_count": 86,
     "metadata": {},
     "output_type": "execute_result"
    }
   ],
   "source": [
    "sum([3, 5, 7])"
   ]
  },
  {
   "cell_type": "markdown",
   "id": "ff9cf50c",
   "metadata": {},
   "source": [
    "\\>> Function has input and output values."
   ]
  },
  {
   "cell_type": "markdown",
   "id": "d0e409d1",
   "metadata": {},
   "source": [
    "#### parameter"
   ]
  },
  {
   "cell_type": "code",
   "execution_count": 87,
   "id": "5404a9f4",
   "metadata": {},
   "outputs": [
    {
     "name": "stdout",
     "output_type": "stream",
     "text": [
      "hi everyone cool\n"
     ]
    }
   ],
   "source": [
    "print('hi', 'everyone', 'cool')"
   ]
  },
  {
   "cell_type": "code",
   "execution_count": 88,
   "id": "55df0913",
   "metadata": {},
   "outputs": [
    {
     "name": "stdout",
     "output_type": "stream",
     "text": [
      "hi everyone cool\n"
     ]
    }
   ],
   "source": [
    "print('hi','everyone', 'cool', sep = ' ')"
   ]
  },
  {
   "cell_type": "code",
   "execution_count": 89,
   "id": "6446734d",
   "metadata": {},
   "outputs": [
    {
     "name": "stdout",
     "output_type": "stream",
     "text": [
      "hi&everyone&cool\n"
     ]
    }
   ],
   "source": [
    "print('hi','everyone', 'cool', sep = '&')"
   ]
  },
  {
   "cell_type": "code",
   "execution_count": 90,
   "id": "ab1fcde4",
   "metadata": {},
   "outputs": [
    {
     "name": "stdout",
     "output_type": "stream",
     "text": [
      "hi//everyone//cool\n"
     ]
    }
   ],
   "source": [
    "print('hi','everyone', 'cool', sep = '//')"
   ]
  },
  {
   "cell_type": "markdown",
   "id": "08aad1df",
   "metadata": {},
   "source": [
    "#### another parameter of print( ): 'end'"
   ]
  },
  {
   "cell_type": "code",
   "execution_count": 91,
   "id": "5e52cbf7",
   "metadata": {},
   "outputs": [
    {
     "name": "stdout",
     "output_type": "stream",
     "text": [
      "I know python is not easy\n",
      "But do not worry too much\n",
      "cz there are alternatives\n"
     ]
    }
   ],
   "source": [
    "print('I know python is not easy')\n",
    "print('But do not worry too much')\n",
    "print('cz there are alternatives')"
   ]
  },
  {
   "cell_type": "code",
   "execution_count": 92,
   "id": "bd29c21a",
   "metadata": {},
   "outputs": [
    {
     "name": "stdout",
     "output_type": "stream",
     "text": [
      "I know python is not easy\n",
      "But do not worry too much\n",
      "cz there are alternatives\n"
     ]
    }
   ],
   "source": [
    "print('I know python is not easy', end = '\\n')\n",
    "print('But do not worry too much', end = '\\n')\n",
    "print('cz there are alternatives', end = '\\n')"
   ]
  },
  {
   "cell_type": "code",
   "execution_count": 93,
   "id": "baa0a307",
   "metadata": {},
   "outputs": [
    {
     "name": "stdout",
     "output_type": "stream",
     "text": [
      "I know python is not easy&&&But do not worry too much&&&cz there are alternatives&&&"
     ]
    }
   ],
   "source": [
    "print('I know python is not easy', end = '&&&')\n",
    "print('But do not worry too much', end = '&&&')\n",
    "print('cz there are alternatives', end = '&&&')"
   ]
  },
  {
   "cell_type": "code",
   "execution_count": 94,
   "id": "a7b0f76d",
   "metadata": {},
   "outputs": [
    {
     "name": "stdout",
     "output_type": "stream",
     "text": [
      "I know python is not easy   But do not worry too much   cz there are alternatives   "
     ]
    }
   ],
   "source": [
    "print('I know python is not easy', end = '   ')\n",
    "print('But do not worry too much', end = '   ')\n",
    "print('cz there are alternatives', end = '   ')"
   ]
  },
  {
   "cell_type": "markdown",
   "id": "c0ea565f",
   "metadata": {},
   "source": [
    "\\>> There are a lot of functions and parameters accordingly"
   ]
  },
  {
   "cell_type": "markdown",
   "id": "2fdb4a00",
   "metadata": {},
   "source": [
    "#### it is defined somewhere..."
   ]
  },
  {
   "cell_type": "code",
   "execution_count": 95,
   "id": "6d0e7aa8",
   "metadata": {},
   "outputs": [],
   "source": [
    "# def print(a):  \n",
    "#     # ...\n",
    "#     # print the input value\n",
    "#     # ..."
   ]
  },
  {
   "cell_type": "code",
   "execution_count": 96,
   "id": "c8de9b1b",
   "metadata": {},
   "outputs": [],
   "source": [
    "# def sum(a, b, c):\n",
    "#     # ...\n",
    "#     # sum all the input values\n",
    "#     # ..."
   ]
  },
  {
   "cell_type": "code",
   "execution_count": 97,
   "id": "5b876fdc",
   "metadata": {},
   "outputs": [],
   "source": [
    "def two_times(a):\n",
    "    result = a * 2\n",
    "    return result"
   ]
  },
  {
   "cell_type": "code",
   "execution_count": 98,
   "id": "caae9b97",
   "metadata": {},
   "outputs": [
    {
     "data": {
      "text/plain": [
       "6"
      ]
     },
     "execution_count": 98,
     "metadata": {},
     "output_type": "execute_result"
    }
   ],
   "source": [
    "two_times(3)"
   ]
  },
  {
   "cell_type": "code",
   "execution_count": 99,
   "id": "bdb5c909",
   "metadata": {},
   "outputs": [
    {
     "data": {
      "text/plain": [
       "14"
      ]
     },
     "execution_count": 99,
     "metadata": {},
     "output_type": "execute_result"
    }
   ],
   "source": [
    "two_times(7)"
   ]
  },
  {
   "cell_type": "markdown",
   "id": "8dd8c553",
   "metadata": {},
   "source": [
    "\\>> We can define functions and some are already defined(= built-in) so that we can use it without installation or loading."
   ]
  },
  {
   "cell_type": "markdown",
   "id": "671d082b",
   "metadata": {},
   "source": [
    "#### function returning multiple values"
   ]
  },
  {
   "cell_type": "code",
   "execution_count": 100,
   "id": "65490cbb",
   "metadata": {},
   "outputs": [],
   "source": [
    "def sum_func(a, b):\n",
    "    result = a + b\n",
    "    return result, a, b"
   ]
  },
  {
   "cell_type": "code",
   "execution_count": 101,
   "id": "b61c19dc",
   "metadata": {},
   "outputs": [
    {
     "data": {
      "text/plain": [
       "(15, 7, 8)"
      ]
     },
     "execution_count": 101,
     "metadata": {},
     "output_type": "execute_result"
    }
   ],
   "source": [
    "sum_func(7, 8)   # multiple output / multiple return values"
   ]
  },
  {
   "cell_type": "code",
   "execution_count": 102,
   "id": "b5a1b1fa",
   "metadata": {},
   "outputs": [],
   "source": [
    "a, b, c = sum_func(7, 8)"
   ]
  },
  {
   "cell_type": "code",
   "execution_count": 103,
   "id": "bb725e80",
   "metadata": {},
   "outputs": [
    {
     "data": {
      "text/plain": [
       "15"
      ]
     },
     "execution_count": 103,
     "metadata": {},
     "output_type": "execute_result"
    }
   ],
   "source": [
    "a"
   ]
  },
  {
   "cell_type": "code",
   "execution_count": 104,
   "id": "41472628",
   "metadata": {},
   "outputs": [
    {
     "data": {
      "text/plain": [
       "7"
      ]
     },
     "execution_count": 104,
     "metadata": {},
     "output_type": "execute_result"
    }
   ],
   "source": [
    "b"
   ]
  },
  {
   "cell_type": "code",
   "execution_count": 105,
   "id": "d2eed10b",
   "metadata": {},
   "outputs": [
    {
     "data": {
      "text/plain": [
       "8"
      ]
     },
     "execution_count": 105,
     "metadata": {},
     "output_type": "execute_result"
    }
   ],
   "source": [
    "c"
   ]
  },
  {
   "cell_type": "markdown",
   "id": "616c24b6",
   "metadata": {},
   "source": [
    "#### Back to...\n",
    " - \" X_train, X_test, y_train,y_test = train_test_split(X, y, train_size = perc) \""
   ]
  },
  {
   "cell_type": "code",
   "execution_count": 106,
   "id": "6109fded",
   "metadata": {},
   "outputs": [],
   "source": [
    "# X_train, X_test, y_train, y_test = train_test_split(X_std, y, train_size = trainPerc)"
   ]
  },
  {
   "cell_type": "markdown",
   "id": "7d08ce10",
   "metadata": {},
   "source": [
    "\\>> Using train_test_split( ) function, we have 4 output values.  \n",
    "\\>> We assign those 4 output values to 4 variables(X_train, X_test, y_train, y_test)"
   ]
  },
  {
   "cell_type": "markdown",
   "id": "7869f87a",
   "metadata": {},
   "source": [
    "# # Method\n",
    " - function that works associated with particular data type"
   ]
  },
  {
   "cell_type": "code",
   "execution_count": 107,
   "id": "240ffdb9",
   "metadata": {},
   "outputs": [],
   "source": [
    "li = [1, 2, 3, 4, 5]"
   ]
  },
  {
   "cell_type": "code",
   "execution_count": 108,
   "id": "2ed71862",
   "metadata": {},
   "outputs": [
    {
     "data": {
      "text/plain": [
       "[1, 2, 3, 4, 5]"
      ]
     },
     "execution_count": 108,
     "metadata": {},
     "output_type": "execute_result"
    }
   ],
   "source": [
    "li"
   ]
  },
  {
   "cell_type": "code",
   "execution_count": 109,
   "id": "de92016f",
   "metadata": {},
   "outputs": [],
   "source": [
    "li.append(77)   # method of 'list data type'"
   ]
  },
  {
   "cell_type": "code",
   "execution_count": 110,
   "id": "19d32dbe",
   "metadata": {},
   "outputs": [
    {
     "data": {
      "text/plain": [
       "[1, 2, 3, 4, 5, 77]"
      ]
     },
     "execution_count": 110,
     "metadata": {},
     "output_type": "execute_result"
    }
   ],
   "source": [
    "li"
   ]
  },
  {
   "cell_type": "code",
   "execution_count": 111,
   "id": "386ef73d",
   "metadata": {},
   "outputs": [
    {
     "data": {
      "text/plain": [
       "list"
      ]
     },
     "execution_count": 111,
     "metadata": {},
     "output_type": "execute_result"
    }
   ],
   "source": [
    "type(li)"
   ]
  },
  {
   "cell_type": "code",
   "execution_count": 112,
   "id": "b1881b6a",
   "metadata": {},
   "outputs": [
    {
     "data": {
      "text/html": [
       "<div>\n",
       "<style scoped>\n",
       "    .dataframe tbody tr th:only-of-type {\n",
       "        vertical-align: middle;\n",
       "    }\n",
       "\n",
       "    .dataframe tbody tr th {\n",
       "        vertical-align: top;\n",
       "    }\n",
       "\n",
       "    .dataframe thead th {\n",
       "        text-align: right;\n",
       "    }\n",
       "</style>\n",
       "<table border=\"1\" class=\"dataframe\">\n",
       "  <thead>\n",
       "    <tr style=\"text-align: right;\">\n",
       "      <th></th>\n",
       "      <th>col_a</th>\n",
       "      <th>col_b</th>\n",
       "    </tr>\n",
       "  </thead>\n",
       "  <tbody>\n",
       "    <tr>\n",
       "      <th>0</th>\n",
       "      <td>1</td>\n",
       "      <td>4</td>\n",
       "    </tr>\n",
       "    <tr>\n",
       "      <th>1</th>\n",
       "      <td>2</td>\n",
       "      <td>5</td>\n",
       "    </tr>\n",
       "    <tr>\n",
       "      <th>2</th>\n",
       "      <td>3</td>\n",
       "      <td>6</td>\n",
       "    </tr>\n",
       "  </tbody>\n",
       "</table>\n",
       "</div>"
      ],
      "text/plain": [
       "   col_a  col_b\n",
       "0      1      4\n",
       "1      2      5\n",
       "2      3      6"
      ]
     },
     "execution_count": 112,
     "metadata": {},
     "output_type": "execute_result"
    }
   ],
   "source": [
    "import pandas as pd\n",
    "df = pd.DataFrame({'col_a':[1,2,3], 'col_b':[4,5,6]})\n",
    "df"
   ]
  },
  {
   "cell_type": "code",
   "execution_count": 113,
   "id": "a085b8d4",
   "metadata": {},
   "outputs": [
    {
     "data": {
      "text/plain": [
       "col_a     6\n",
       "col_b    15\n",
       "dtype: int64"
      ]
     },
     "execution_count": 113,
     "metadata": {},
     "output_type": "execute_result"
    }
   ],
   "source": [
    "df.sum()"
   ]
  },
  {
   "cell_type": "code",
   "execution_count": 114,
   "id": "b0b2b613",
   "metadata": {},
   "outputs": [
    {
     "data": {
      "text/html": [
       "<div>\n",
       "<style scoped>\n",
       "    .dataframe tbody tr th:only-of-type {\n",
       "        vertical-align: middle;\n",
       "    }\n",
       "\n",
       "    .dataframe tbody tr th {\n",
       "        vertical-align: top;\n",
       "    }\n",
       "\n",
       "    .dataframe thead th {\n",
       "        text-align: right;\n",
       "    }\n",
       "</style>\n",
       "<table border=\"1\" class=\"dataframe\">\n",
       "  <thead>\n",
       "    <tr style=\"text-align: right;\">\n",
       "      <th></th>\n",
       "      <th>col_a</th>\n",
       "      <th>col_b</th>\n",
       "    </tr>\n",
       "  </thead>\n",
       "  <tbody>\n",
       "    <tr>\n",
       "      <th>0</th>\n",
       "      <td>False</td>\n",
       "      <td>False</td>\n",
       "    </tr>\n",
       "    <tr>\n",
       "      <th>1</th>\n",
       "      <td>False</td>\n",
       "      <td>False</td>\n",
       "    </tr>\n",
       "    <tr>\n",
       "      <th>2</th>\n",
       "      <td>False</td>\n",
       "      <td>False</td>\n",
       "    </tr>\n",
       "  </tbody>\n",
       "</table>\n",
       "</div>"
      ],
      "text/plain": [
       "   col_a  col_b\n",
       "0  False  False\n",
       "1  False  False\n",
       "2  False  False"
      ]
     },
     "execution_count": 114,
     "metadata": {},
     "output_type": "execute_result"
    }
   ],
   "source": [
    "df.isnull()"
   ]
  },
  {
   "cell_type": "markdown",
   "id": "96d7d293",
   "metadata": {},
   "source": [
    "#### Method Chaining\n",
    " - a technique that is used for making multiple method calls on the same object, using the object reference just once\n",
    " - object.method( ).method( ).method( )"
   ]
  },
  {
   "cell_type": "code",
   "execution_count": 115,
   "id": "d02bca91",
   "metadata": {},
   "outputs": [
    {
     "data": {
      "text/html": [
       "<div>\n",
       "<style scoped>\n",
       "    .dataframe tbody tr th:only-of-type {\n",
       "        vertical-align: middle;\n",
       "    }\n",
       "\n",
       "    .dataframe tbody tr th {\n",
       "        vertical-align: top;\n",
       "    }\n",
       "\n",
       "    .dataframe thead th {\n",
       "        text-align: right;\n",
       "    }\n",
       "</style>\n",
       "<table border=\"1\" class=\"dataframe\">\n",
       "  <thead>\n",
       "    <tr style=\"text-align: right;\">\n",
       "      <th></th>\n",
       "      <th>col_a</th>\n",
       "      <th>col_b</th>\n",
       "    </tr>\n",
       "  </thead>\n",
       "  <tbody>\n",
       "    <tr>\n",
       "      <th>0</th>\n",
       "      <td>1</td>\n",
       "      <td>4</td>\n",
       "    </tr>\n",
       "    <tr>\n",
       "      <th>1</th>\n",
       "      <td>2</td>\n",
       "      <td>5</td>\n",
       "    </tr>\n",
       "    <tr>\n",
       "      <th>2</th>\n",
       "      <td>3</td>\n",
       "      <td>6</td>\n",
       "    </tr>\n",
       "  </tbody>\n",
       "</table>\n",
       "</div>"
      ],
      "text/plain": [
       "   col_a  col_b\n",
       "0      1      4\n",
       "1      2      5\n",
       "2      3      6"
      ]
     },
     "execution_count": 115,
     "metadata": {},
     "output_type": "execute_result"
    }
   ],
   "source": [
    "df"
   ]
  },
  {
   "cell_type": "code",
   "execution_count": 116,
   "id": "f9246a50",
   "metadata": {},
   "outputs": [
    {
     "data": {
      "text/html": [
       "<div>\n",
       "<style scoped>\n",
       "    .dataframe tbody tr th:only-of-type {\n",
       "        vertical-align: middle;\n",
       "    }\n",
       "\n",
       "    .dataframe tbody tr th {\n",
       "        vertical-align: top;\n",
       "    }\n",
       "\n",
       "    .dataframe thead th {\n",
       "        text-align: right;\n",
       "    }\n",
       "</style>\n",
       "<table border=\"1\" class=\"dataframe\">\n",
       "  <thead>\n",
       "    <tr style=\"text-align: right;\">\n",
       "      <th></th>\n",
       "      <th>col_a</th>\n",
       "      <th>col_b</th>\n",
       "    </tr>\n",
       "  </thead>\n",
       "  <tbody>\n",
       "    <tr>\n",
       "      <th>0</th>\n",
       "      <td>False</td>\n",
       "      <td>False</td>\n",
       "    </tr>\n",
       "    <tr>\n",
       "      <th>1</th>\n",
       "      <td>False</td>\n",
       "      <td>False</td>\n",
       "    </tr>\n",
       "    <tr>\n",
       "      <th>2</th>\n",
       "      <td>False</td>\n",
       "      <td>False</td>\n",
       "    </tr>\n",
       "  </tbody>\n",
       "</table>\n",
       "</div>"
      ],
      "text/plain": [
       "   col_a  col_b\n",
       "0  False  False\n",
       "1  False  False\n",
       "2  False  False"
      ]
     },
     "execution_count": 116,
     "metadata": {},
     "output_type": "execute_result"
    }
   ],
   "source": [
    "df.isnull()"
   ]
  },
  {
   "cell_type": "code",
   "execution_count": 117,
   "id": "3daaf4a7",
   "metadata": {
    "scrolled": true
   },
   "outputs": [
    {
     "data": {
      "text/html": [
       "<div>\n",
       "<style scoped>\n",
       "    .dataframe tbody tr th:only-of-type {\n",
       "        vertical-align: middle;\n",
       "    }\n",
       "\n",
       "    .dataframe tbody tr th {\n",
       "        vertical-align: top;\n",
       "    }\n",
       "\n",
       "    .dataframe thead th {\n",
       "        text-align: right;\n",
       "    }\n",
       "</style>\n",
       "<table border=\"1\" class=\"dataframe\">\n",
       "  <thead>\n",
       "    <tr style=\"text-align: right;\">\n",
       "      <th></th>\n",
       "      <th>col_a</th>\n",
       "      <th>col_b</th>\n",
       "    </tr>\n",
       "  </thead>\n",
       "  <tbody>\n",
       "    <tr>\n",
       "      <th>0</th>\n",
       "      <td>False</td>\n",
       "      <td>False</td>\n",
       "    </tr>\n",
       "    <tr>\n",
       "      <th>1</th>\n",
       "      <td>False</td>\n",
       "      <td>False</td>\n",
       "    </tr>\n",
       "    <tr>\n",
       "      <th>2</th>\n",
       "      <td>False</td>\n",
       "      <td>False</td>\n",
       "    </tr>\n",
       "  </tbody>\n",
       "</table>\n",
       "</div>"
      ],
      "text/plain": [
       "   col_a  col_b\n",
       "0  False  False\n",
       "1  False  False\n",
       "2  False  False"
      ]
     },
     "execution_count": 117,
     "metadata": {},
     "output_type": "execute_result"
    }
   ],
   "source": [
    "result = df.isnull()\n",
    "result"
   ]
  },
  {
   "cell_type": "code",
   "execution_count": 118,
   "id": "02cdfa9d",
   "metadata": {},
   "outputs": [
    {
     "data": {
      "text/plain": [
       "pandas.core.frame.DataFrame"
      ]
     },
     "execution_count": 118,
     "metadata": {},
     "output_type": "execute_result"
    }
   ],
   "source": [
    "type(result)"
   ]
  },
  {
   "cell_type": "code",
   "execution_count": 119,
   "id": "034ca4b9",
   "metadata": {},
   "outputs": [
    {
     "data": {
      "text/plain": [
       "col_a    0\n",
       "col_b    0\n",
       "dtype: int64"
      ]
     },
     "execution_count": 119,
     "metadata": {},
     "output_type": "execute_result"
    }
   ],
   "source": [
    "result.sum()"
   ]
  },
  {
   "cell_type": "markdown",
   "id": "8fa1ce21",
   "metadata": {},
   "source": [
    "#### step.1"
   ]
  },
  {
   "cell_type": "code",
   "execution_count": 120,
   "id": "007bb64c",
   "metadata": {
    "scrolled": true
   },
   "outputs": [
    {
     "data": {
      "text/html": [
       "<div>\n",
       "<style scoped>\n",
       "    .dataframe tbody tr th:only-of-type {\n",
       "        vertical-align: middle;\n",
       "    }\n",
       "\n",
       "    .dataframe tbody tr th {\n",
       "        vertical-align: top;\n",
       "    }\n",
       "\n",
       "    .dataframe thead th {\n",
       "        text-align: right;\n",
       "    }\n",
       "</style>\n",
       "<table border=\"1\" class=\"dataframe\">\n",
       "  <thead>\n",
       "    <tr style=\"text-align: right;\">\n",
       "      <th></th>\n",
       "      <th>col_a</th>\n",
       "      <th>col_b</th>\n",
       "    </tr>\n",
       "  </thead>\n",
       "  <tbody>\n",
       "    <tr>\n",
       "      <th>0</th>\n",
       "      <td>1</td>\n",
       "      <td>4</td>\n",
       "    </tr>\n",
       "    <tr>\n",
       "      <th>1</th>\n",
       "      <td>2</td>\n",
       "      <td>5</td>\n",
       "    </tr>\n",
       "    <tr>\n",
       "      <th>2</th>\n",
       "      <td>3</td>\n",
       "      <td>6</td>\n",
       "    </tr>\n",
       "  </tbody>\n",
       "</table>\n",
       "</div>"
      ],
      "text/plain": [
       "   col_a  col_b\n",
       "0      1      4\n",
       "1      2      5\n",
       "2      3      6"
      ]
     },
     "execution_count": 120,
     "metadata": {},
     "output_type": "execute_result"
    }
   ],
   "source": [
    "df"
   ]
  },
  {
   "cell_type": "markdown",
   "id": "5df10727",
   "metadata": {},
   "source": [
    "#### step.2"
   ]
  },
  {
   "cell_type": "code",
   "execution_count": 121,
   "id": "fd97c7c7",
   "metadata": {
    "scrolled": true
   },
   "outputs": [
    {
     "data": {
      "text/html": [
       "<div>\n",
       "<style scoped>\n",
       "    .dataframe tbody tr th:only-of-type {\n",
       "        vertical-align: middle;\n",
       "    }\n",
       "\n",
       "    .dataframe tbody tr th {\n",
       "        vertical-align: top;\n",
       "    }\n",
       "\n",
       "    .dataframe thead th {\n",
       "        text-align: right;\n",
       "    }\n",
       "</style>\n",
       "<table border=\"1\" class=\"dataframe\">\n",
       "  <thead>\n",
       "    <tr style=\"text-align: right;\">\n",
       "      <th></th>\n",
       "      <th>col_a</th>\n",
       "      <th>col_b</th>\n",
       "    </tr>\n",
       "  </thead>\n",
       "  <tbody>\n",
       "    <tr>\n",
       "      <th>0</th>\n",
       "      <td>False</td>\n",
       "      <td>False</td>\n",
       "    </tr>\n",
       "    <tr>\n",
       "      <th>1</th>\n",
       "      <td>False</td>\n",
       "      <td>False</td>\n",
       "    </tr>\n",
       "    <tr>\n",
       "      <th>2</th>\n",
       "      <td>False</td>\n",
       "      <td>False</td>\n",
       "    </tr>\n",
       "  </tbody>\n",
       "</table>\n",
       "</div>"
      ],
      "text/plain": [
       "   col_a  col_b\n",
       "0  False  False\n",
       "1  False  False\n",
       "2  False  False"
      ]
     },
     "execution_count": 121,
     "metadata": {},
     "output_type": "execute_result"
    }
   ],
   "source": [
    "df.isnull()"
   ]
  },
  {
   "cell_type": "markdown",
   "id": "7570932b",
   "metadata": {},
   "source": [
    "#### step.3"
   ]
  },
  {
   "cell_type": "code",
   "execution_count": 122,
   "id": "6cad97f7",
   "metadata": {
    "scrolled": true
   },
   "outputs": [
    {
     "data": {
      "text/plain": [
       "col_a    0\n",
       "col_b    0\n",
       "dtype: int64"
      ]
     },
     "execution_count": 122,
     "metadata": {},
     "output_type": "execute_result"
    }
   ],
   "source": [
    "df.isnull().sum()   # method chaining"
   ]
  },
  {
   "cell_type": "markdown",
   "id": "82e3e3c4",
   "metadata": {},
   "source": [
    "# # Package Usage"
   ]
  },
  {
   "cell_type": "markdown",
   "id": "9d8f4029",
   "metadata": {},
   "source": [
    "#### Different ways to import LinearRegression( ) function\n",
    " - sklearn.linear_model.LinearRegression()\n",
    " - sklearn >> linear_model >> LinearRegression()\n",
    " - sklearn: module (o)\n",
    " - linear_model: module (o)\n",
    " - LinearRegression: module (x) >> It is a function."
   ]
  },
  {
   "cell_type": "markdown",
   "id": "212f87ef",
   "metadata": {},
   "source": [
    "#### import"
   ]
  },
  {
   "cell_type": "code",
   "execution_count": 123,
   "id": "aa9dcbe6",
   "metadata": {
    "scrolled": true
   },
   "outputs": [
    {
     "data": {
      "text/plain": [
       "LinearRegression()"
      ]
     },
     "execution_count": 123,
     "metadata": {},
     "output_type": "execute_result"
    }
   ],
   "source": [
    "# Works: sklearn.linear_model module\n",
    "import sklearn.linear_model \n",
    "lr3 = sklearn.linear_model.LinearRegression()\n",
    "lr3"
   ]
  },
  {
   "cell_type": "markdown",
   "id": "8f44906e",
   "metadata": {},
   "source": [
    "#### from ... import ..."
   ]
  },
  {
   "cell_type": "code",
   "execution_count": 124,
   "id": "3ecd5dc4",
   "metadata": {},
   "outputs": [
    {
     "data": {
      "text/plain": [
       "LinearRegression()"
      ]
     },
     "execution_count": 124,
     "metadata": {},
     "output_type": "execute_result"
    }
   ],
   "source": [
    "# Works: from module import module\n",
    "from sklearn import linear_model\n",
    "lr5 = linear_model.LinearRegression()\n",
    "lr5"
   ]
  },
  {
   "cell_type": "code",
   "execution_count": 125,
   "id": "2f4798b7",
   "metadata": {},
   "outputs": [
    {
     "data": {
      "text/plain": [
       "LinearRegression()"
      ]
     },
     "execution_count": 125,
     "metadata": {},
     "output_type": "execute_result"
    }
   ],
   "source": [
    "# Works: from module import function\n",
    "from sklearn.linear_model import LinearRegression\n",
    "lr6 = LinearRegression()\n",
    "lr6"
   ]
  },
  {
   "cell_type": "markdown",
   "id": "d4ca5660",
   "metadata": {},
   "source": [
    "#### summary"
   ]
  },
  {
   "cell_type": "code",
   "execution_count": 126,
   "id": "3db3841d",
   "metadata": {},
   "outputs": [],
   "source": [
    "# Works: sklearn.linear_model module\n",
    "import sklearn.linear_model \n",
    "lr3 = sklearn.linear_model.LinearRegression()\n",
    "\n",
    "# Works: from module import module\n",
    "from sklearn import linear_model\n",
    "lr5 = linear_model.LinearRegression()\n",
    "\n",
    "# Works: from module import function\n",
    "from sklearn.linear_model import LinearRegression\n",
    "lr6 = LinearRegression()"
   ]
  },
  {
   "cell_type": "markdown",
   "id": "12a8b269",
   "metadata": {},
   "source": [
    "#### #### *by. Donghwan Kim at National University of Singapore / Session for MSc. in HCMA students / Mar.2022 (E.O.D.)*"
   ]
  }
 ],
 "metadata": {
  "kernelspec": {
   "display_name": "Python 3 (ipykernel)",
   "language": "python",
   "name": "python3"
  },
  "language_info": {
   "codemirror_mode": {
    "name": "ipython",
    "version": 3
   },
   "file_extension": ".py",
   "mimetype": "text/x-python",
   "name": "python",
   "nbconvert_exporter": "python",
   "pygments_lexer": "ipython3",
   "version": "3.8.2"
  }
 },
 "nbformat": 4,
 "nbformat_minor": 5
}
